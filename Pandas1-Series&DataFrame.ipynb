{
 "cells": [
  {
   "cell_type": "code",
   "execution_count": 1,
   "metadata": {},
   "outputs": [],
   "source": [
    "import pandas as pd"
   ]
  },
  {
   "cell_type": "markdown",
   "metadata": {},
   "source": [
    "# Pandas Data Structures, Series and DataFrame\n",
    "\n",
    "###series###"
   ]
  },
  {
   "cell_type": "code",
   "execution_count": 7,
   "metadata": {},
   "outputs": [
    {
     "data": {
      "text/plain": [
       "0     11\n",
       "1     22\n",
       "2     33\n",
       "3     44\n",
       "4     55\n",
       "5     66\n",
       "6     77\n",
       "7     88\n",
       "8     99\n",
       "9    100\n",
       "dtype: int64"
      ]
     },
     "execution_count": 7,
     "metadata": {},
     "output_type": "execute_result"
    }
   ],
   "source": [
    "s1 = pd.Series([11,22,33,44,55,66,77,88,99,100])\n",
    "s1 #pandas series object with 0 -9 index"
   ]
  },
  {
   "cell_type": "code",
   "execution_count": 8,
   "metadata": {},
   "outputs": [
    {
     "data": {
      "text/plain": [
       "100"
      ]
     },
     "execution_count": 8,
     "metadata": {},
     "output_type": "execute_result"
    }
   ],
   "source": [
    "s1[9] #accessing vlue by index"
   ]
  },
  {
   "cell_type": "code",
   "execution_count": 9,
   "metadata": {},
   "outputs": [
    {
     "data": {
      "text/plain": [
       "2     33\n",
       "4     55\n",
       "7     88\n",
       "9    100\n",
       "dtype: int64"
      ]
     },
     "execution_count": 9,
     "metadata": {},
     "output_type": "execute_result"
    }
   ],
   "source": [
    "s1[[2,4,7,9]] #accessing multiple values"
   ]
  },
  {
   "cell_type": "code",
   "execution_count": 10,
   "metadata": {},
   "outputs": [],
   "source": [
    "s1[5]=5000 #modifying a value in series"
   ]
  },
  {
   "cell_type": "code",
   "execution_count": 11,
   "metadata": {},
   "outputs": [
    {
     "data": {
      "text/plain": [
       "0      11\n",
       "1      22\n",
       "2      33\n",
       "3      44\n",
       "4      55\n",
       "5    5000\n",
       "6      77\n",
       "7      88\n",
       "8      99\n",
       "9     100\n",
       "dtype: int64"
      ]
     },
     "execution_count": 11,
     "metadata": {},
     "output_type": "execute_result"
    }
   ],
   "source": [
    "s1"
   ]
  },
  {
   "cell_type": "code",
   "execution_count": 12,
   "metadata": {},
   "outputs": [],
   "source": [
    "del s1[5] #deleting a value in series"
   ]
  },
  {
   "cell_type": "code",
   "execution_count": 13,
   "metadata": {},
   "outputs": [
    {
     "data": {
      "text/plain": [
       "0     11\n",
       "1     22\n",
       "2     33\n",
       "3     44\n",
       "4     55\n",
       "6     77\n",
       "7     88\n",
       "8     99\n",
       "9    100\n",
       "dtype: int64"
      ]
     },
     "execution_count": 13,
     "metadata": {},
     "output_type": "execute_result"
    }
   ],
   "source": [
    "s1"
   ]
  },
  {
   "cell_type": "code",
   "execution_count": 27,
   "metadata": {},
   "outputs": [],
   "source": [
    "s1[[2,6,7,8]]=[222,666,777,888] #modifying mutliple values"
   ]
  },
  {
   "cell_type": "code",
   "execution_count": 25,
   "metadata": {},
   "outputs": [
    {
     "data": {
      "text/plain": [
       "0       11\n",
       "1       22\n",
       "2      222\n",
       "3       44\n",
       "4       55\n",
       "6      666\n",
       "7      777\n",
       "8      888\n",
       "9      100\n",
       "99    9999\n",
       "dtype: int64"
      ]
     },
     "execution_count": 25,
     "metadata": {},
     "output_type": "execute_result"
    }
   ],
   "source": [
    "s1"
   ]
  },
  {
   "cell_type": "code",
   "execution_count": 30,
   "metadata": {},
   "outputs": [],
   "source": [
    "s1[100]=1009 #insert values with any index not available"
   ]
  },
  {
   "cell_type": "code",
   "execution_count": 31,
   "metadata": {},
   "outputs": [
    {
     "data": {
      "text/plain": [
       "0        11\n",
       "1        22\n",
       "2       222\n",
       "3        44\n",
       "4        55\n",
       "6       666\n",
       "7       777\n",
       "8       888\n",
       "9       100\n",
       "99     9999\n",
       "100    1009\n",
       "dtype: object"
      ]
     },
     "execution_count": 31,
     "metadata": {},
     "output_type": "execute_result"
    }
   ],
   "source": [
    "s1"
   ]
  },
  {
   "cell_type": "code",
   "execution_count": 33,
   "metadata": {},
   "outputs": [],
   "source": [
    "s2 = pd.Series([10,20,30,40], index=['oranges','apples','bananas','mangoes'])"
   ]
  },
  {
   "cell_type": "code",
   "execution_count": 34,
   "metadata": {},
   "outputs": [
    {
     "data": {
      "text/plain": [
       "oranges    10\n",
       "apples     20\n",
       "bananas    30\n",
       "mangoes    40\n",
       "dtype: int64"
      ]
     },
     "execution_count": 34,
     "metadata": {},
     "output_type": "execute_result"
    }
   ],
   "source": [
    "s2"
   ]
  },
  {
   "cell_type": "code",
   "execution_count": 35,
   "metadata": {},
   "outputs": [
    {
     "data": {
      "text/plain": [
       "Index(['oranges', 'apples', 'bananas', 'mangoes'], dtype='object')"
      ]
     },
     "execution_count": 35,
     "metadata": {},
     "output_type": "execute_result"
    }
   ],
   "source": [
    "s2.index"
   ]
  },
  {
   "cell_type": "code",
   "execution_count": 36,
   "metadata": {},
   "outputs": [
    {
     "data": {
      "text/plain": [
       "array([10, 20, 30, 40], dtype=int64)"
      ]
     },
     "execution_count": 36,
     "metadata": {},
     "output_type": "execute_result"
    }
   ],
   "source": [
    "s2.values"
   ]
  },
  {
   "cell_type": "code",
   "execution_count": 37,
   "metadata": {},
   "outputs": [],
   "source": [
    "OurIndex = ['oranges','apples','bananas','mangoes']\n",
    "\n",
    "s2= pd.Series([10,20,30,40], index=OurIndex)"
   ]
  },
  {
   "cell_type": "code",
   "execution_count": 38,
   "metadata": {},
   "outputs": [
    {
     "data": {
      "text/plain": [
       "oranges    10\n",
       "apples     20\n",
       "bananas    30\n",
       "mangoes    40\n",
       "dtype: int64"
      ]
     },
     "execution_count": 38,
     "metadata": {},
     "output_type": "execute_result"
    }
   ],
   "source": [
    "s2"
   ]
  },
  {
   "cell_type": "code",
   "execution_count": 41,
   "metadata": {},
   "outputs": [
    {
     "data": {
      "text/plain": [
       "oranges    False\n",
       "apples     False\n",
       "bananas    False\n",
       "mangoes     True\n",
       "dtype: bool"
      ]
     },
     "execution_count": 41,
     "metadata": {},
     "output_type": "execute_result"
    }
   ],
   "source": [
    "s2>30 #will tell where values is true or false i.e.compare with all"
   ]
  },
  {
   "cell_type": "code",
   "execution_count": 42,
   "metadata": {},
   "outputs": [
    {
     "data": {
      "text/plain": [
       "oranges    10\n",
       "apples     20\n",
       "dtype: int64"
      ]
     },
     "execution_count": 42,
     "metadata": {},
     "output_type": "execute_result"
    }
   ],
   "source": [
    "s2[s2<30]#will show onky true values"
   ]
  },
  {
   "cell_type": "code",
   "execution_count": 43,
   "metadata": {},
   "outputs": [
    {
     "data": {
      "text/plain": [
       "False"
      ]
     },
     "execution_count": 43,
     "metadata": {},
     "output_type": "execute_result"
    }
   ],
   "source": [
    "'Peach' in s2 #check if key is in series or not"
   ]
  },
  {
   "cell_type": "code",
   "execution_count": 44,
   "metadata": {},
   "outputs": [
    {
     "data": {
      "text/plain": [
       "True"
      ]
     },
     "execution_count": 44,
     "metadata": {},
     "output_type": "execute_result"
    }
   ],
   "source": [
    "'oranges' in s2"
   ]
  },
  {
   "cell_type": "markdown",
   "metadata": {},
   "source": [
    "# Creating a series using dictionary"
   ]
  },
  {
   "cell_type": "code",
   "execution_count": 54,
   "metadata": {},
   "outputs": [],
   "source": [
    "sdata = {'Ohio': 35000, 'Texas': 71000, 'Oregon': 16000, 'Utah': 5000}\n",
    "\n",
    "data = pd.Series(sdata)"
   ]
  },
  {
   "cell_type": "code",
   "execution_count": 55,
   "metadata": {},
   "outputs": [
    {
     "data": {
      "text/plain": [
       "California        NaN\n",
       "Ohio          35000.0\n",
       "Oregon        16000.0\n",
       "Texas         71000.0\n",
       "dtype: float64"
      ]
     },
     "execution_count": 55,
     "metadata": {},
     "output_type": "execute_result"
    }
   ],
   "source": [
    "states = ['California', 'Ohio', 'Oregon', 'Texas']\n",
    "data1 = pd.Series(sdata, index = states)\n",
    "data1\n",
    "\n",
    "#values present in old data will be added and new values with no dat show NaN (not a number)"
   ]
  },
  {
   "cell_type": "code",
   "execution_count": 56,
   "metadata": {},
   "outputs": [
    {
     "data": {
      "text/plain": [
       "California     True\n",
       "Ohio          False\n",
       "Oregon        False\n",
       "Texas         False\n",
       "dtype: bool"
      ]
     },
     "execution_count": 56,
     "metadata": {},
     "output_type": "execute_result"
    }
   ],
   "source": [
    "data1.isnull()"
   ]
  },
  {
   "cell_type": "code",
   "execution_count": 57,
   "metadata": {},
   "outputs": [
    {
     "data": {
      "text/plain": [
       "California    55000.0\n",
       "Ohio          35000.0\n",
       "Oregon        16000.0\n",
       "Texas         71000.0\n",
       "dtype: float64"
      ]
     },
     "execution_count": 57,
     "metadata": {},
     "output_type": "execute_result"
    }
   ],
   "source": [
    "data1['California']=55000 #adding values to the key updated in the old data\n",
    "data1"
   ]
  },
  {
   "cell_type": "code",
   "execution_count": 58,
   "metadata": {},
   "outputs": [
    {
     "data": {
      "text/plain": [
       "California    False\n",
       "Ohio          False\n",
       "Oregon        False\n",
       "Texas         False\n",
       "dtype: bool"
      ]
     },
     "execution_count": 58,
     "metadata": {},
     "output_type": "execute_result"
    }
   ],
   "source": [
    "data1.isnull()"
   ]
  },
  {
   "cell_type": "code",
   "execution_count": 59,
   "metadata": {},
   "outputs": [
    {
     "data": {
      "text/plain": [
       "California    True\n",
       "Ohio          True\n",
       "Oregon        True\n",
       "Texas         True\n",
       "dtype: bool"
      ]
     },
     "execution_count": 59,
     "metadata": {},
     "output_type": "execute_result"
    }
   ],
   "source": [
    "data1.notnull()"
   ]
  },
  {
   "cell_type": "markdown",
   "metadata": {},
   "source": [
    "# Data Frame"
   ]
  },
  {
   "cell_type": "code",
   "execution_count": 64,
   "metadata": {},
   "outputs": [
    {
     "data": {
      "text/html": [
       "<div>\n",
       "<style scoped>\n",
       "    .dataframe tbody tr th:only-of-type {\n",
       "        vertical-align: middle;\n",
       "    }\n",
       "\n",
       "    .dataframe tbody tr th {\n",
       "        vertical-align: top;\n",
       "    }\n",
       "\n",
       "    .dataframe thead th {\n",
       "        text-align: right;\n",
       "    }\n",
       "</style>\n",
       "<table border=\"1\" class=\"dataframe\">\n",
       "  <thead>\n",
       "    <tr style=\"text-align: right;\">\n",
       "      <th></th>\n",
       "      <th>State</th>\n",
       "      <th>Year</th>\n",
       "      <th>Pop</th>\n",
       "    </tr>\n",
       "  </thead>\n",
       "  <tbody>\n",
       "    <tr>\n",
       "      <th>0</th>\n",
       "      <td>Ohio</td>\n",
       "      <td>2000</td>\n",
       "      <td>1.5</td>\n",
       "    </tr>\n",
       "    <tr>\n",
       "      <th>1</th>\n",
       "      <td>Ohio</td>\n",
       "      <td>2001</td>\n",
       "      <td>1.7</td>\n",
       "    </tr>\n",
       "    <tr>\n",
       "      <th>2</th>\n",
       "      <td>Ohio</td>\n",
       "      <td>2002</td>\n",
       "      <td>3.6</td>\n",
       "    </tr>\n",
       "    <tr>\n",
       "      <th>3</th>\n",
       "      <td>Nevada</td>\n",
       "      <td>2001</td>\n",
       "      <td>2.4</td>\n",
       "    </tr>\n",
       "    <tr>\n",
       "      <th>4</th>\n",
       "      <td>Nevada</td>\n",
       "      <td>2002</td>\n",
       "      <td>2.9</td>\n",
       "    </tr>\n",
       "    <tr>\n",
       "      <th>5</th>\n",
       "      <td>Nevada</td>\n",
       "      <td>2003</td>\n",
       "      <td>3.2</td>\n",
       "    </tr>\n",
       "  </tbody>\n",
       "</table>\n",
       "</div>"
      ],
      "text/plain": [
       "    State  Year  Pop\n",
       "0    Ohio  2000  1.5\n",
       "1    Ohio  2001  1.7\n",
       "2    Ohio  2002  3.6\n",
       "3  Nevada  2001  2.4\n",
       "4  Nevada  2002  2.9\n",
       "5  Nevada  2003  3.2"
      ]
     },
     "execution_count": 64,
     "metadata": {},
     "output_type": "execute_result"
    }
   ],
   "source": [
    "data = {'State': ['Ohio', 'Ohio', 'Ohio', 'Nevada', 'Nevada', 'Nevada'],\n",
    "        'Year': [2000, 2001, 2002, 2001, 2002, 2003],\n",
    "        'Pop': [1.5, 1.7, 3.6, 2.4, 2.9, 3.2]\n",
    "        }\n",
    "#key is column header\n",
    "\n",
    "df1 = pd.DataFrame(data)\n",
    "df1"
   ]
  },
  {
   "cell_type": "code",
   "execution_count": 71,
   "metadata": {},
   "outputs": [],
   "source": [
    "data = {'Name': ['Khizra', 'Ayesha', 'Dania', 'Hadiqa', 'Zubia', 'Wajiha'],\n",
    "        'Roll No': [1, 2, 3, 4, 5, 6],\n",
    "        'Program':['AI', 'AI', 'AI', 'AI', 'AI', 'AI'],\n",
    "        'Marks-AI for Everyone':[90, 82, 85, 79, 68, 78],\n",
    "        'Marks-Python1':[78, 59, 89, 80, 56, 65],\n",
    "        'Marks-Python2':[91,77, 67, 88, 93,99]\n",
    "        }"
   ]
  },
  {
   "cell_type": "code",
   "execution_count": 74,
   "metadata": {},
   "outputs": [
    {
     "data": {
      "text/html": [
       "<div>\n",
       "<style scoped>\n",
       "    .dataframe tbody tr th:only-of-type {\n",
       "        vertical-align: middle;\n",
       "    }\n",
       "\n",
       "    .dataframe tbody tr th {\n",
       "        vertical-align: top;\n",
       "    }\n",
       "\n",
       "    .dataframe thead th {\n",
       "        text-align: right;\n",
       "    }\n",
       "</style>\n",
       "<table border=\"1\" class=\"dataframe\">\n",
       "  <thead>\n",
       "    <tr style=\"text-align: right;\">\n",
       "      <th></th>\n",
       "      <th>Name</th>\n",
       "      <th>Roll No</th>\n",
       "      <th>Program</th>\n",
       "      <th>Marks-AI for Everyone</th>\n",
       "      <th>Marks-Python1</th>\n",
       "      <th>Marks-Python2</th>\n",
       "    </tr>\n",
       "  </thead>\n",
       "  <tbody>\n",
       "    <tr>\n",
       "      <th>0</th>\n",
       "      <td>Khizra</td>\n",
       "      <td>1</td>\n",
       "      <td>AI</td>\n",
       "      <td>90</td>\n",
       "      <td>78</td>\n",
       "      <td>91</td>\n",
       "    </tr>\n",
       "    <tr>\n",
       "      <th>1</th>\n",
       "      <td>Ayesha</td>\n",
       "      <td>2</td>\n",
       "      <td>AI</td>\n",
       "      <td>82</td>\n",
       "      <td>59</td>\n",
       "      <td>77</td>\n",
       "    </tr>\n",
       "    <tr>\n",
       "      <th>2</th>\n",
       "      <td>Dania</td>\n",
       "      <td>3</td>\n",
       "      <td>AI</td>\n",
       "      <td>85</td>\n",
       "      <td>89</td>\n",
       "      <td>67</td>\n",
       "    </tr>\n",
       "    <tr>\n",
       "      <th>3</th>\n",
       "      <td>Hadiqa</td>\n",
       "      <td>4</td>\n",
       "      <td>AI</td>\n",
       "      <td>79</td>\n",
       "      <td>80</td>\n",
       "      <td>88</td>\n",
       "    </tr>\n",
       "    <tr>\n",
       "      <th>4</th>\n",
       "      <td>Zubia</td>\n",
       "      <td>5</td>\n",
       "      <td>AI</td>\n",
       "      <td>68</td>\n",
       "      <td>56</td>\n",
       "      <td>93</td>\n",
       "    </tr>\n",
       "    <tr>\n",
       "      <th>5</th>\n",
       "      <td>Wajiha</td>\n",
       "      <td>6</td>\n",
       "      <td>AI</td>\n",
       "      <td>78</td>\n",
       "      <td>65</td>\n",
       "      <td>99</td>\n",
       "    </tr>\n",
       "  </tbody>\n",
       "</table>\n",
       "</div>"
      ],
      "text/plain": [
       "     Name  Roll No Program  Marks-AI for Everyone  Marks-Python1  \\\n",
       "0  Khizra        1      AI                     90             78   \n",
       "1  Ayesha        2      AI                     82             59   \n",
       "2   Dania        3      AI                     85             89   \n",
       "3  Hadiqa        4      AI                     79             80   \n",
       "4   Zubia        5      AI                     68             56   \n",
       "5  Wajiha        6      AI                     78             65   \n",
       "\n",
       "   Marks-Python2  \n",
       "0             91  \n",
       "1             77  \n",
       "2             67  \n",
       "3             88  \n",
       "4             93  \n",
       "5             99  "
      ]
     },
     "execution_count": 74,
     "metadata": {},
     "output_type": "execute_result"
    }
   ],
   "source": [
    "df2 = pd.DataFrame(data)\n",
    "df2"
   ]
  },
  {
   "cell_type": "code",
   "execution_count": 75,
   "metadata": {},
   "outputs": [
    {
     "data": {
      "text/plain": [
       "pandas.core.frame.DataFrame"
      ]
     },
     "execution_count": 75,
     "metadata": {},
     "output_type": "execute_result"
    }
   ],
   "source": [
    "type(df2)"
   ]
  },
  {
   "cell_type": "code",
   "execution_count": 76,
   "metadata": {},
   "outputs": [
    {
     "data": {
      "text/plain": [
       "(6, 6)"
      ]
     },
     "execution_count": 76,
     "metadata": {},
     "output_type": "execute_result"
    }
   ],
   "source": [
    "df2.shape"
   ]
  },
  {
   "cell_type": "code",
   "execution_count": 81,
   "metadata": {},
   "outputs": [
    {
     "data": {
      "text/html": [
       "<div>\n",
       "<style scoped>\n",
       "    .dataframe tbody tr th:only-of-type {\n",
       "        vertical-align: middle;\n",
       "    }\n",
       "\n",
       "    .dataframe tbody tr th {\n",
       "        vertical-align: top;\n",
       "    }\n",
       "\n",
       "    .dataframe thead th {\n",
       "        text-align: right;\n",
       "    }\n",
       "</style>\n",
       "<table border=\"1\" class=\"dataframe\">\n",
       "  <thead>\n",
       "    <tr style=\"text-align: right;\">\n",
       "      <th></th>\n",
       "      <th>Name</th>\n",
       "      <th>Marks-AI for Everyone</th>\n",
       "    </tr>\n",
       "  </thead>\n",
       "  <tbody>\n",
       "    <tr>\n",
       "      <th>0</th>\n",
       "      <td>Khizra</td>\n",
       "      <td>90</td>\n",
       "    </tr>\n",
       "    <tr>\n",
       "      <th>1</th>\n",
       "      <td>Ayesha</td>\n",
       "      <td>82</td>\n",
       "    </tr>\n",
       "    <tr>\n",
       "      <th>2</th>\n",
       "      <td>Dania</td>\n",
       "      <td>85</td>\n",
       "    </tr>\n",
       "    <tr>\n",
       "      <th>3</th>\n",
       "      <td>Hadiqa</td>\n",
       "      <td>79</td>\n",
       "    </tr>\n",
       "    <tr>\n",
       "      <th>4</th>\n",
       "      <td>Zubia</td>\n",
       "      <td>68</td>\n",
       "    </tr>\n",
       "    <tr>\n",
       "      <th>5</th>\n",
       "      <td>Wajiha</td>\n",
       "      <td>78</td>\n",
       "    </tr>\n",
       "  </tbody>\n",
       "</table>\n",
       "</div>"
      ],
      "text/plain": [
       "     Name  Marks-AI for Everyone\n",
       "0  Khizra                     90\n",
       "1  Ayesha                     82\n",
       "2   Dania                     85\n",
       "3  Hadiqa                     79\n",
       "4   Zubia                     68\n",
       "5  Wajiha                     78"
      ]
     },
     "execution_count": 81,
     "metadata": {},
     "output_type": "execute_result"
    }
   ],
   "source": [
    "df2[['Name','Marks-AI for Everyone']] #selecting multiple columns by column header"
   ]
  },
  {
   "cell_type": "code",
   "execution_count": 85,
   "metadata": {},
   "outputs": [
    {
     "data": {
      "text/plain": [
       "0    1\n",
       "1    2\n",
       "2    3\n",
       "3    4\n",
       "4    5\n",
       "5    6\n",
       "Name: Roll No, dtype: int64"
      ]
     },
     "execution_count": 85,
     "metadata": {},
     "output_type": "execute_result"
    }
   ],
   "source": [
    "df2['Roll No']"
   ]
  },
  {
   "cell_type": "code",
   "execution_count": 86,
   "metadata": {},
   "outputs": [],
   "source": [
    "del df2['Program']"
   ]
  },
  {
   "cell_type": "code",
   "execution_count": 87,
   "metadata": {},
   "outputs": [
    {
     "data": {
      "text/html": [
       "<div>\n",
       "<style scoped>\n",
       "    .dataframe tbody tr th:only-of-type {\n",
       "        vertical-align: middle;\n",
       "    }\n",
       "\n",
       "    .dataframe tbody tr th {\n",
       "        vertical-align: top;\n",
       "    }\n",
       "\n",
       "    .dataframe thead th {\n",
       "        text-align: right;\n",
       "    }\n",
       "</style>\n",
       "<table border=\"1\" class=\"dataframe\">\n",
       "  <thead>\n",
       "    <tr style=\"text-align: right;\">\n",
       "      <th></th>\n",
       "      <th>Name</th>\n",
       "      <th>Roll No</th>\n",
       "      <th>Marks-AI for Everyone</th>\n",
       "      <th>Marks-Python1</th>\n",
       "      <th>Marks-Python2</th>\n",
       "    </tr>\n",
       "  </thead>\n",
       "  <tbody>\n",
       "    <tr>\n",
       "      <th>0</th>\n",
       "      <td>Khizra</td>\n",
       "      <td>1</td>\n",
       "      <td>90</td>\n",
       "      <td>78</td>\n",
       "      <td>91</td>\n",
       "    </tr>\n",
       "    <tr>\n",
       "      <th>1</th>\n",
       "      <td>Ayesha</td>\n",
       "      <td>2</td>\n",
       "      <td>82</td>\n",
       "      <td>59</td>\n",
       "      <td>77</td>\n",
       "    </tr>\n",
       "    <tr>\n",
       "      <th>2</th>\n",
       "      <td>Dania</td>\n",
       "      <td>3</td>\n",
       "      <td>85</td>\n",
       "      <td>89</td>\n",
       "      <td>67</td>\n",
       "    </tr>\n",
       "    <tr>\n",
       "      <th>3</th>\n",
       "      <td>Hadiqa</td>\n",
       "      <td>4</td>\n",
       "      <td>79</td>\n",
       "      <td>80</td>\n",
       "      <td>88</td>\n",
       "    </tr>\n",
       "    <tr>\n",
       "      <th>4</th>\n",
       "      <td>Zubia</td>\n",
       "      <td>5</td>\n",
       "      <td>68</td>\n",
       "      <td>56</td>\n",
       "      <td>93</td>\n",
       "    </tr>\n",
       "    <tr>\n",
       "      <th>5</th>\n",
       "      <td>Wajiha</td>\n",
       "      <td>6</td>\n",
       "      <td>78</td>\n",
       "      <td>65</td>\n",
       "      <td>99</td>\n",
       "    </tr>\n",
       "  </tbody>\n",
       "</table>\n",
       "</div>"
      ],
      "text/plain": [
       "     Name  Roll No  Marks-AI for Everyone  Marks-Python1  Marks-Python2\n",
       "0  Khizra        1                     90             78             91\n",
       "1  Ayesha        2                     82             59             77\n",
       "2   Dania        3                     85             89             67\n",
       "3  Hadiqa        4                     79             80             88\n",
       "4   Zubia        5                     68             56             93\n",
       "5  Wajiha        6                     78             65             99"
      ]
     },
     "execution_count": 87,
     "metadata": {},
     "output_type": "execute_result"
    }
   ],
   "source": [
    "df2"
   ]
  },
  {
   "cell_type": "code",
   "execution_count": 90,
   "metadata": {},
   "outputs": [
    {
     "data": {
      "text/html": [
       "<div>\n",
       "<style scoped>\n",
       "    .dataframe tbody tr th:only-of-type {\n",
       "        vertical-align: middle;\n",
       "    }\n",
       "\n",
       "    .dataframe tbody tr th {\n",
       "        vertical-align: top;\n",
       "    }\n",
       "\n",
       "    .dataframe thead th {\n",
       "        text-align: right;\n",
       "    }\n",
       "</style>\n",
       "<table border=\"1\" class=\"dataframe\">\n",
       "  <thead>\n",
       "    <tr style=\"text-align: right;\">\n",
       "      <th></th>\n",
       "      <th>Name</th>\n",
       "      <th>Roll No</th>\n",
       "      <th>Marks-AI for Everyone</th>\n",
       "      <th>Marks-Python1</th>\n",
       "      <th>Marks-Python2</th>\n",
       "      <th>Result</th>\n",
       "    </tr>\n",
       "  </thead>\n",
       "  <tbody>\n",
       "    <tr>\n",
       "      <th>0</th>\n",
       "      <td>Khizra</td>\n",
       "      <td>1</td>\n",
       "      <td>90</td>\n",
       "      <td>78</td>\n",
       "      <td>91</td>\n",
       "      <td>Pass</td>\n",
       "    </tr>\n",
       "    <tr>\n",
       "      <th>1</th>\n",
       "      <td>Ayesha</td>\n",
       "      <td>2</td>\n",
       "      <td>82</td>\n",
       "      <td>59</td>\n",
       "      <td>77</td>\n",
       "      <td>Pass</td>\n",
       "    </tr>\n",
       "    <tr>\n",
       "      <th>2</th>\n",
       "      <td>Dania</td>\n",
       "      <td>3</td>\n",
       "      <td>85</td>\n",
       "      <td>89</td>\n",
       "      <td>67</td>\n",
       "      <td>Pass</td>\n",
       "    </tr>\n",
       "    <tr>\n",
       "      <th>3</th>\n",
       "      <td>Hadiqa</td>\n",
       "      <td>4</td>\n",
       "      <td>79</td>\n",
       "      <td>80</td>\n",
       "      <td>88</td>\n",
       "      <td>Pass</td>\n",
       "    </tr>\n",
       "    <tr>\n",
       "      <th>4</th>\n",
       "      <td>Zubia</td>\n",
       "      <td>5</td>\n",
       "      <td>68</td>\n",
       "      <td>56</td>\n",
       "      <td>93</td>\n",
       "      <td>Pass</td>\n",
       "    </tr>\n",
       "    <tr>\n",
       "      <th>5</th>\n",
       "      <td>Wajiha</td>\n",
       "      <td>6</td>\n",
       "      <td>78</td>\n",
       "      <td>65</td>\n",
       "      <td>99</td>\n",
       "      <td>Pass</td>\n",
       "    </tr>\n",
       "  </tbody>\n",
       "</table>\n",
       "</div>"
      ],
      "text/plain": [
       "     Name  Roll No  Marks-AI for Everyone  Marks-Python1  Marks-Python2 Result\n",
       "0  Khizra        1                     90             78             91   Pass\n",
       "1  Ayesha        2                     82             59             77   Pass\n",
       "2   Dania        3                     85             89             67   Pass\n",
       "3  Hadiqa        4                     79             80             88   Pass\n",
       "4   Zubia        5                     68             56             93   Pass\n",
       "5  Wajiha        6                     78             65             99   Pass"
      ]
     },
     "execution_count": 90,
     "metadata": {},
     "output_type": "execute_result"
    }
   ],
   "source": [
    "df2['Result']='Pass' #aading new column with a single value\n",
    "df2"
   ]
  },
  {
   "cell_type": "code",
   "execution_count": 92,
   "metadata": {},
   "outputs": [
    {
     "data": {
      "text/html": [
       "<div>\n",
       "<style scoped>\n",
       "    .dataframe tbody tr th:only-of-type {\n",
       "        vertical-align: middle;\n",
       "    }\n",
       "\n",
       "    .dataframe tbody tr th {\n",
       "        vertical-align: top;\n",
       "    }\n",
       "\n",
       "    .dataframe thead th {\n",
       "        text-align: right;\n",
       "    }\n",
       "</style>\n",
       "<table border=\"1\" class=\"dataframe\">\n",
       "  <thead>\n",
       "    <tr style=\"text-align: right;\">\n",
       "      <th></th>\n",
       "      <th>Name</th>\n",
       "      <th>Roll No</th>\n",
       "      <th>Marks-AI for Everyone</th>\n",
       "      <th>Marks-Python1</th>\n",
       "      <th>Marks-Python2</th>\n",
       "      <th>Result</th>\n",
       "      <th>Program</th>\n",
       "    </tr>\n",
       "  </thead>\n",
       "  <tbody>\n",
       "    <tr>\n",
       "      <th>0</th>\n",
       "      <td>Khizra</td>\n",
       "      <td>1</td>\n",
       "      <td>90</td>\n",
       "      <td>78</td>\n",
       "      <td>91</td>\n",
       "      <td>Pass</td>\n",
       "      <td>AI</td>\n",
       "    </tr>\n",
       "    <tr>\n",
       "      <th>1</th>\n",
       "      <td>Ayesha</td>\n",
       "      <td>2</td>\n",
       "      <td>82</td>\n",
       "      <td>59</td>\n",
       "      <td>77</td>\n",
       "      <td>Pass</td>\n",
       "      <td>AI</td>\n",
       "    </tr>\n",
       "    <tr>\n",
       "      <th>2</th>\n",
       "      <td>Dania</td>\n",
       "      <td>3</td>\n",
       "      <td>85</td>\n",
       "      <td>89</td>\n",
       "      <td>67</td>\n",
       "      <td>Pass</td>\n",
       "      <td>AI</td>\n",
       "    </tr>\n",
       "    <tr>\n",
       "      <th>3</th>\n",
       "      <td>Hadiqa</td>\n",
       "      <td>4</td>\n",
       "      <td>79</td>\n",
       "      <td>80</td>\n",
       "      <td>88</td>\n",
       "      <td>Pass</td>\n",
       "      <td>AI</td>\n",
       "    </tr>\n",
       "    <tr>\n",
       "      <th>4</th>\n",
       "      <td>Zubia</td>\n",
       "      <td>5</td>\n",
       "      <td>68</td>\n",
       "      <td>56</td>\n",
       "      <td>93</td>\n",
       "      <td>Pass</td>\n",
       "      <td>AI</td>\n",
       "    </tr>\n",
       "    <tr>\n",
       "      <th>5</th>\n",
       "      <td>Wajiha</td>\n",
       "      <td>6</td>\n",
       "      <td>78</td>\n",
       "      <td>65</td>\n",
       "      <td>99</td>\n",
       "      <td>Pass</td>\n",
       "      <td>AI</td>\n",
       "    </tr>\n",
       "  </tbody>\n",
       "</table>\n",
       "</div>"
      ],
      "text/plain": [
       "     Name  Roll No  Marks-AI for Everyone  Marks-Python1  Marks-Python2  \\\n",
       "0  Khizra        1                     90             78             91   \n",
       "1  Ayesha        2                     82             59             77   \n",
       "2   Dania        3                     85             89             67   \n",
       "3  Hadiqa        4                     79             80             88   \n",
       "4   Zubia        5                     68             56             93   \n",
       "5  Wajiha        6                     78             65             99   \n",
       "\n",
       "  Result Program  \n",
       "0   Pass      AI  \n",
       "1   Pass      AI  \n",
       "2   Pass      AI  \n",
       "3   Pass      AI  \n",
       "4   Pass      AI  \n",
       "5   Pass      AI  "
      ]
     },
     "execution_count": 92,
     "metadata": {},
     "output_type": "execute_result"
    }
   ],
   "source": [
    "df2['Program']=['AI','AI','AI','AI','AI','AI',] #adding single column with multiple values\n",
    "df2"
   ]
  },
  {
   "cell_type": "code",
   "execution_count": 95,
   "metadata": {},
   "outputs": [
    {
     "data": {
      "text/html": [
       "<div>\n",
       "<style scoped>\n",
       "    .dataframe tbody tr th:only-of-type {\n",
       "        vertical-align: middle;\n",
       "    }\n",
       "\n",
       "    .dataframe tbody tr th {\n",
       "        vertical-align: top;\n",
       "    }\n",
       "\n",
       "    .dataframe thead th {\n",
       "        text-align: right;\n",
       "    }\n",
       "</style>\n",
       "<table border=\"1\" class=\"dataframe\">\n",
       "  <thead>\n",
       "    <tr style=\"text-align: right;\">\n",
       "      <th></th>\n",
       "      <th>Name</th>\n",
       "      <th>Roll No</th>\n",
       "      <th>Marks-AI for Everyone</th>\n",
       "      <th>Marks-Python1</th>\n",
       "      <th>Marks-Python2</th>\n",
       "      <th>Result</th>\n",
       "      <th>Program</th>\n",
       "    </tr>\n",
       "  </thead>\n",
       "  <tbody>\n",
       "    <tr>\n",
       "      <th>0</th>\n",
       "      <td>Khizra</td>\n",
       "      <td>1</td>\n",
       "      <td>78</td>\n",
       "      <td>78</td>\n",
       "      <td>91</td>\n",
       "      <td>Pass</td>\n",
       "      <td>AI</td>\n",
       "    </tr>\n",
       "    <tr>\n",
       "      <th>1</th>\n",
       "      <td>Ayesha</td>\n",
       "      <td>2</td>\n",
       "      <td>59</td>\n",
       "      <td>59</td>\n",
       "      <td>77</td>\n",
       "      <td>Pass</td>\n",
       "      <td>AI</td>\n",
       "    </tr>\n",
       "    <tr>\n",
       "      <th>2</th>\n",
       "      <td>Dania</td>\n",
       "      <td>3</td>\n",
       "      <td>89</td>\n",
       "      <td>89</td>\n",
       "      <td>67</td>\n",
       "      <td>Pass</td>\n",
       "      <td>AI</td>\n",
       "    </tr>\n",
       "    <tr>\n",
       "      <th>3</th>\n",
       "      <td>Hadiqa</td>\n",
       "      <td>4</td>\n",
       "      <td>80</td>\n",
       "      <td>80</td>\n",
       "      <td>88</td>\n",
       "      <td>Pass</td>\n",
       "      <td>AI</td>\n",
       "    </tr>\n",
       "    <tr>\n",
       "      <th>4</th>\n",
       "      <td>Zubia</td>\n",
       "      <td>5</td>\n",
       "      <td>56</td>\n",
       "      <td>56</td>\n",
       "      <td>93</td>\n",
       "      <td>Pass</td>\n",
       "      <td>AI</td>\n",
       "    </tr>\n",
       "    <tr>\n",
       "      <th>5</th>\n",
       "      <td>Wajiha</td>\n",
       "      <td>6</td>\n",
       "      <td>65</td>\n",
       "      <td>65</td>\n",
       "      <td>99</td>\n",
       "      <td>Pass</td>\n",
       "      <td>AI</td>\n",
       "    </tr>\n",
       "  </tbody>\n",
       "</table>\n",
       "</div>"
      ],
      "text/plain": [
       "     Name  Roll No  Marks-AI for Everyone  Marks-Python1  Marks-Python2  \\\n",
       "0  Khizra        1                     78             78             91   \n",
       "1  Ayesha        2                     59             59             77   \n",
       "2   Dania        3                     89             89             67   \n",
       "3  Hadiqa        4                     80             80             88   \n",
       "4   Zubia        5                     56             56             93   \n",
       "5  Wajiha        6                     65             65             99   \n",
       "\n",
       "  Result Program  \n",
       "0   Pass      AI  \n",
       "1   Pass      AI  \n",
       "2   Pass      AI  \n",
       "3   Pass      AI  \n",
       "4   Pass      AI  \n",
       "5   Pass      AI  "
      ]
     },
     "execution_count": 95,
     "metadata": {},
     "output_type": "execute_result"
    }
   ],
   "source": [
    "df2['Marks-AI for Everyone'] = df2['Marks-Python1']\n",
    "df2"
   ]
  },
  {
   "cell_type": "code",
   "execution_count": 97,
   "metadata": {},
   "outputs": [],
   "source": [
    "df2['Marks-AI for Everyone']= range(6)"
   ]
  },
  {
   "cell_type": "code",
   "execution_count": 98,
   "metadata": {},
   "outputs": [
    {
     "data": {
      "text/html": [
       "<div>\n",
       "<style scoped>\n",
       "    .dataframe tbody tr th:only-of-type {\n",
       "        vertical-align: middle;\n",
       "    }\n",
       "\n",
       "    .dataframe tbody tr th {\n",
       "        vertical-align: top;\n",
       "    }\n",
       "\n",
       "    .dataframe thead th {\n",
       "        text-align: right;\n",
       "    }\n",
       "</style>\n",
       "<table border=\"1\" class=\"dataframe\">\n",
       "  <thead>\n",
       "    <tr style=\"text-align: right;\">\n",
       "      <th></th>\n",
       "      <th>Name</th>\n",
       "      <th>Roll No</th>\n",
       "      <th>Marks-AI for Everyone</th>\n",
       "      <th>Marks-Python1</th>\n",
       "      <th>Marks-Python2</th>\n",
       "      <th>Result</th>\n",
       "      <th>Program</th>\n",
       "    </tr>\n",
       "  </thead>\n",
       "  <tbody>\n",
       "    <tr>\n",
       "      <th>0</th>\n",
       "      <td>Khizra</td>\n",
       "      <td>1</td>\n",
       "      <td>0</td>\n",
       "      <td>78</td>\n",
       "      <td>91</td>\n",
       "      <td>Pass</td>\n",
       "      <td>AI</td>\n",
       "    </tr>\n",
       "    <tr>\n",
       "      <th>1</th>\n",
       "      <td>Ayesha</td>\n",
       "      <td>2</td>\n",
       "      <td>1</td>\n",
       "      <td>59</td>\n",
       "      <td>77</td>\n",
       "      <td>Pass</td>\n",
       "      <td>AI</td>\n",
       "    </tr>\n",
       "    <tr>\n",
       "      <th>2</th>\n",
       "      <td>Dania</td>\n",
       "      <td>3</td>\n",
       "      <td>2</td>\n",
       "      <td>89</td>\n",
       "      <td>67</td>\n",
       "      <td>Pass</td>\n",
       "      <td>AI</td>\n",
       "    </tr>\n",
       "    <tr>\n",
       "      <th>3</th>\n",
       "      <td>Hadiqa</td>\n",
       "      <td>4</td>\n",
       "      <td>3</td>\n",
       "      <td>80</td>\n",
       "      <td>88</td>\n",
       "      <td>Pass</td>\n",
       "      <td>AI</td>\n",
       "    </tr>\n",
       "    <tr>\n",
       "      <th>4</th>\n",
       "      <td>Zubia</td>\n",
       "      <td>5</td>\n",
       "      <td>4</td>\n",
       "      <td>56</td>\n",
       "      <td>93</td>\n",
       "      <td>Pass</td>\n",
       "      <td>AI</td>\n",
       "    </tr>\n",
       "    <tr>\n",
       "      <th>5</th>\n",
       "      <td>Wajiha</td>\n",
       "      <td>6</td>\n",
       "      <td>5</td>\n",
       "      <td>65</td>\n",
       "      <td>99</td>\n",
       "      <td>Pass</td>\n",
       "      <td>AI</td>\n",
       "    </tr>\n",
       "  </tbody>\n",
       "</table>\n",
       "</div>"
      ],
      "text/plain": [
       "     Name  Roll No  Marks-AI for Everyone  Marks-Python1  Marks-Python2  \\\n",
       "0  Khizra        1                      0             78             91   \n",
       "1  Ayesha        2                      1             59             77   \n",
       "2   Dania        3                      2             89             67   \n",
       "3  Hadiqa        4                      3             80             88   \n",
       "4   Zubia        5                      4             56             93   \n",
       "5  Wajiha        6                      5             65             99   \n",
       "\n",
       "  Result Program  \n",
       "0   Pass      AI  \n",
       "1   Pass      AI  \n",
       "2   Pass      AI  \n",
       "3   Pass      AI  \n",
       "4   Pass      AI  \n",
       "5   Pass      AI  "
      ]
     },
     "execution_count": 98,
     "metadata": {},
     "output_type": "execute_result"
    }
   ],
   "source": [
    "df2"
   ]
  },
  {
   "cell_type": "code",
   "execution_count": 100,
   "metadata": {},
   "outputs": [],
   "source": [
    "df2['Marks-AI for Everyone']=[90,87,57,78,65,88]"
   ]
  },
  {
   "cell_type": "code",
   "execution_count": 101,
   "metadata": {},
   "outputs": [
    {
     "data": {
      "text/html": [
       "<div>\n",
       "<style scoped>\n",
       "    .dataframe tbody tr th:only-of-type {\n",
       "        vertical-align: middle;\n",
       "    }\n",
       "\n",
       "    .dataframe tbody tr th {\n",
       "        vertical-align: top;\n",
       "    }\n",
       "\n",
       "    .dataframe thead th {\n",
       "        text-align: right;\n",
       "    }\n",
       "</style>\n",
       "<table border=\"1\" class=\"dataframe\">\n",
       "  <thead>\n",
       "    <tr style=\"text-align: right;\">\n",
       "      <th></th>\n",
       "      <th>Name</th>\n",
       "      <th>Roll No</th>\n",
       "      <th>Marks-AI for Everyone</th>\n",
       "      <th>Marks-Python1</th>\n",
       "      <th>Marks-Python2</th>\n",
       "      <th>Result</th>\n",
       "      <th>Program</th>\n",
       "    </tr>\n",
       "  </thead>\n",
       "  <tbody>\n",
       "    <tr>\n",
       "      <th>0</th>\n",
       "      <td>Khizra</td>\n",
       "      <td>1</td>\n",
       "      <td>90</td>\n",
       "      <td>78</td>\n",
       "      <td>91</td>\n",
       "      <td>Pass</td>\n",
       "      <td>AI</td>\n",
       "    </tr>\n",
       "    <tr>\n",
       "      <th>1</th>\n",
       "      <td>Ayesha</td>\n",
       "      <td>2</td>\n",
       "      <td>87</td>\n",
       "      <td>59</td>\n",
       "      <td>77</td>\n",
       "      <td>Pass</td>\n",
       "      <td>AI</td>\n",
       "    </tr>\n",
       "    <tr>\n",
       "      <th>2</th>\n",
       "      <td>Dania</td>\n",
       "      <td>3</td>\n",
       "      <td>57</td>\n",
       "      <td>89</td>\n",
       "      <td>67</td>\n",
       "      <td>Pass</td>\n",
       "      <td>AI</td>\n",
       "    </tr>\n",
       "    <tr>\n",
       "      <th>3</th>\n",
       "      <td>Hadiqa</td>\n",
       "      <td>4</td>\n",
       "      <td>78</td>\n",
       "      <td>80</td>\n",
       "      <td>88</td>\n",
       "      <td>Pass</td>\n",
       "      <td>AI</td>\n",
       "    </tr>\n",
       "    <tr>\n",
       "      <th>4</th>\n",
       "      <td>Zubia</td>\n",
       "      <td>5</td>\n",
       "      <td>65</td>\n",
       "      <td>56</td>\n",
       "      <td>93</td>\n",
       "      <td>Pass</td>\n",
       "      <td>AI</td>\n",
       "    </tr>\n",
       "    <tr>\n",
       "      <th>5</th>\n",
       "      <td>Wajiha</td>\n",
       "      <td>6</td>\n",
       "      <td>88</td>\n",
       "      <td>65</td>\n",
       "      <td>99</td>\n",
       "      <td>Pass</td>\n",
       "      <td>AI</td>\n",
       "    </tr>\n",
       "  </tbody>\n",
       "</table>\n",
       "</div>"
      ],
      "text/plain": [
       "     Name  Roll No  Marks-AI for Everyone  Marks-Python1  Marks-Python2  \\\n",
       "0  Khizra        1                     90             78             91   \n",
       "1  Ayesha        2                     87             59             77   \n",
       "2   Dania        3                     57             89             67   \n",
       "3  Hadiqa        4                     78             80             88   \n",
       "4   Zubia        5                     65             56             93   \n",
       "5  Wajiha        6                     88             65             99   \n",
       "\n",
       "  Result Program  \n",
       "0   Pass      AI  \n",
       "1   Pass      AI  \n",
       "2   Pass      AI  \n",
       "3   Pass      AI  \n",
       "4   Pass      AI  \n",
       "5   Pass      AI  "
      ]
     },
     "execution_count": 101,
     "metadata": {},
     "output_type": "execute_result"
    }
   ],
   "source": [
    "df2"
   ]
  },
  {
   "cell_type": "code",
   "execution_count": 4,
   "metadata": {},
   "outputs": [],
   "source": [
    "dic={ 'AI for Everyone':[90, 82, 85, 79, 68, 78],\n",
    "        'Python1':[78, 59, 89, 80, 56, 65],\n",
    "        'Python2':[91,77, 67, 55, 55,55]\n",
    "    }\n",
    "\n",
    "df = pd.DataFrame(dic, index=['Khizra', 'Ayesha', 'Dania', 'Hadiqa', 'Zubia', 'Wajiha'])"
   ]
  },
  {
   "cell_type": "code",
   "execution_count": 5,
   "metadata": {},
   "outputs": [
    {
     "data": {
      "text/html": [
       "<div>\n",
       "<style scoped>\n",
       "    .dataframe tbody tr th:only-of-type {\n",
       "        vertical-align: middle;\n",
       "    }\n",
       "\n",
       "    .dataframe tbody tr th {\n",
       "        vertical-align: top;\n",
       "    }\n",
       "\n",
       "    .dataframe thead th {\n",
       "        text-align: right;\n",
       "    }\n",
       "</style>\n",
       "<table border=\"1\" class=\"dataframe\">\n",
       "  <thead>\n",
       "    <tr style=\"text-align: right;\">\n",
       "      <th></th>\n",
       "      <th>AI for Everyone</th>\n",
       "      <th>Python1</th>\n",
       "      <th>Python2</th>\n",
       "    </tr>\n",
       "  </thead>\n",
       "  <tbody>\n",
       "    <tr>\n",
       "      <th>Khizra</th>\n",
       "      <td>90</td>\n",
       "      <td>78</td>\n",
       "      <td>91</td>\n",
       "    </tr>\n",
       "    <tr>\n",
       "      <th>Ayesha</th>\n",
       "      <td>82</td>\n",
       "      <td>59</td>\n",
       "      <td>77</td>\n",
       "    </tr>\n",
       "    <tr>\n",
       "      <th>Dania</th>\n",
       "      <td>85</td>\n",
       "      <td>89</td>\n",
       "      <td>67</td>\n",
       "    </tr>\n",
       "    <tr>\n",
       "      <th>Hadiqa</th>\n",
       "      <td>79</td>\n",
       "      <td>80</td>\n",
       "      <td>55</td>\n",
       "    </tr>\n",
       "    <tr>\n",
       "      <th>Zubia</th>\n",
       "      <td>68</td>\n",
       "      <td>56</td>\n",
       "      <td>55</td>\n",
       "    </tr>\n",
       "    <tr>\n",
       "      <th>Wajiha</th>\n",
       "      <td>78</td>\n",
       "      <td>65</td>\n",
       "      <td>55</td>\n",
       "    </tr>\n",
       "  </tbody>\n",
       "</table>\n",
       "</div>"
      ],
      "text/plain": [
       "        AI for Everyone  Python1  Python2\n",
       "Khizra               90       78       91\n",
       "Ayesha               82       59       77\n",
       "Dania                85       89       67\n",
       "Hadiqa               79       80       55\n",
       "Zubia                68       56       55\n",
       "Wajiha               78       65       55"
      ]
     },
     "execution_count": 5,
     "metadata": {},
     "output_type": "execute_result"
    }
   ],
   "source": [
    "df"
   ]
  },
  {
   "cell_type": "code",
   "execution_count": 6,
   "metadata": {},
   "outputs": [],
   "source": [
    "df['Total Marks']= df['AI for Everyone']+df['Python1']+df['Python2'] #.sum all columns"
   ]
  },
  {
   "cell_type": "code",
   "execution_count": 7,
   "metadata": {},
   "outputs": [
    {
     "data": {
      "text/html": [
       "<div>\n",
       "<style scoped>\n",
       "    .dataframe tbody tr th:only-of-type {\n",
       "        vertical-align: middle;\n",
       "    }\n",
       "\n",
       "    .dataframe tbody tr th {\n",
       "        vertical-align: top;\n",
       "    }\n",
       "\n",
       "    .dataframe thead th {\n",
       "        text-align: right;\n",
       "    }\n",
       "</style>\n",
       "<table border=\"1\" class=\"dataframe\">\n",
       "  <thead>\n",
       "    <tr style=\"text-align: right;\">\n",
       "      <th></th>\n",
       "      <th>AI for Everyone</th>\n",
       "      <th>Python1</th>\n",
       "      <th>Python2</th>\n",
       "      <th>Total Marks</th>\n",
       "    </tr>\n",
       "  </thead>\n",
       "  <tbody>\n",
       "    <tr>\n",
       "      <th>Khizra</th>\n",
       "      <td>90</td>\n",
       "      <td>78</td>\n",
       "      <td>91</td>\n",
       "      <td>259</td>\n",
       "    </tr>\n",
       "    <tr>\n",
       "      <th>Ayesha</th>\n",
       "      <td>82</td>\n",
       "      <td>59</td>\n",
       "      <td>77</td>\n",
       "      <td>218</td>\n",
       "    </tr>\n",
       "    <tr>\n",
       "      <th>Dania</th>\n",
       "      <td>85</td>\n",
       "      <td>89</td>\n",
       "      <td>67</td>\n",
       "      <td>241</td>\n",
       "    </tr>\n",
       "    <tr>\n",
       "      <th>Hadiqa</th>\n",
       "      <td>79</td>\n",
       "      <td>80</td>\n",
       "      <td>55</td>\n",
       "      <td>214</td>\n",
       "    </tr>\n",
       "    <tr>\n",
       "      <th>Zubia</th>\n",
       "      <td>68</td>\n",
       "      <td>56</td>\n",
       "      <td>55</td>\n",
       "      <td>179</td>\n",
       "    </tr>\n",
       "    <tr>\n",
       "      <th>Wajiha</th>\n",
       "      <td>78</td>\n",
       "      <td>65</td>\n",
       "      <td>55</td>\n",
       "      <td>198</td>\n",
       "    </tr>\n",
       "  </tbody>\n",
       "</table>\n",
       "</div>"
      ],
      "text/plain": [
       "        AI for Everyone  Python1  Python2  Total Marks\n",
       "Khizra               90       78       91          259\n",
       "Ayesha               82       59       77          218\n",
       "Dania                85       89       67          241\n",
       "Hadiqa               79       80       55          214\n",
       "Zubia                68       56       55          179\n",
       "Wajiha               78       65       55          198"
      ]
     },
     "execution_count": 7,
     "metadata": {},
     "output_type": "execute_result"
    }
   ],
   "source": [
    "df"
   ]
  },
  {
   "cell_type": "code",
   "execution_count": 8,
   "metadata": {},
   "outputs": [
    {
     "data": {
      "text/html": [
       "<div>\n",
       "<style scoped>\n",
       "    .dataframe tbody tr th:only-of-type {\n",
       "        vertical-align: middle;\n",
       "    }\n",
       "\n",
       "    .dataframe tbody tr th {\n",
       "        vertical-align: top;\n",
       "    }\n",
       "\n",
       "    .dataframe thead th {\n",
       "        text-align: right;\n",
       "    }\n",
       "</style>\n",
       "<table border=\"1\" class=\"dataframe\">\n",
       "  <thead>\n",
       "    <tr style=\"text-align: right;\">\n",
       "      <th></th>\n",
       "      <th>AI for Everyone</th>\n",
       "      <th>Python1</th>\n",
       "      <th>Python2</th>\n",
       "      <th>Total Marks</th>\n",
       "    </tr>\n",
       "  </thead>\n",
       "  <tbody>\n",
       "    <tr>\n",
       "      <th>Khizra</th>\n",
       "      <td>90</td>\n",
       "      <td>78</td>\n",
       "      <td>91</td>\n",
       "      <td>259</td>\n",
       "    </tr>\n",
       "    <tr>\n",
       "      <th>Ayesha</th>\n",
       "      <td>82</td>\n",
       "      <td>59</td>\n",
       "      <td>77</td>\n",
       "      <td>218</td>\n",
       "    </tr>\n",
       "    <tr>\n",
       "      <th>Dania</th>\n",
       "      <td>85</td>\n",
       "      <td>89</td>\n",
       "      <td>67</td>\n",
       "      <td>241</td>\n",
       "    </tr>\n",
       "    <tr>\n",
       "      <th>Hadiqa</th>\n",
       "      <td>79</td>\n",
       "      <td>80</td>\n",
       "      <td>55</td>\n",
       "      <td>214</td>\n",
       "    </tr>\n",
       "    <tr>\n",
       "      <th>Zubia</th>\n",
       "      <td>68</td>\n",
       "      <td>56</td>\n",
       "      <td>55</td>\n",
       "      <td>179</td>\n",
       "    </tr>\n",
       "    <tr>\n",
       "      <th>Wajiha</th>\n",
       "      <td>78</td>\n",
       "      <td>65</td>\n",
       "      <td>55</td>\n",
       "      <td>198</td>\n",
       "    </tr>\n",
       "  </tbody>\n",
       "</table>\n",
       "</div>"
      ],
      "text/plain": [
       "        AI for Everyone  Python1  Python2  Total Marks\n",
       "Khizra               90       78       91          259\n",
       "Ayesha               82       59       77          218\n",
       "Dania                85       89       67          241\n",
       "Hadiqa               79       80       55          214\n",
       "Zubia                68       56       55          179\n",
       "Wajiha               78       65       55          198"
      ]
     },
     "execution_count": 8,
     "metadata": {},
     "output_type": "execute_result"
    }
   ],
   "source": [
    "df"
   ]
  },
  {
   "cell_type": "code",
   "execution_count": 10,
   "metadata": {},
   "outputs": [
    {
     "data": {
      "text/plain": [
       "Khizra     True\n",
       "Ayesha     True\n",
       "Dania      True\n",
       "Hadiqa     True\n",
       "Zubia     False\n",
       "Wajiha    False\n",
       "Name: Total Marks, dtype: bool"
      ]
     },
     "execution_count": 10,
     "metadata": {},
     "output_type": "execute_result"
    }
   ],
   "source": [
    "df['Total Marks']>200\n"
   ]
  },
  {
   "cell_type": "code",
   "execution_count": 63,
   "metadata": {},
   "outputs": [
    {
     "data": {
      "text/html": [
       "<div>\n",
       "<style scoped>\n",
       "    .dataframe tbody tr th:only-of-type {\n",
       "        vertical-align: middle;\n",
       "    }\n",
       "\n",
       "    .dataframe tbody tr th {\n",
       "        vertical-align: top;\n",
       "    }\n",
       "\n",
       "    .dataframe thead th {\n",
       "        text-align: right;\n",
       "    }\n",
       "</style>\n",
       "<table border=\"1\" class=\"dataframe\">\n",
       "  <thead>\n",
       "    <tr style=\"text-align: right;\">\n",
       "      <th></th>\n",
       "      <th>AI for Everyone</th>\n",
       "      <th>Python1</th>\n",
       "      <th>Python2</th>\n",
       "      <th>Total Marks</th>\n",
       "      <th>Status</th>\n",
       "      <th>Percentage</th>\n",
       "    </tr>\n",
       "  </thead>\n",
       "  <tbody>\n",
       "    <tr>\n",
       "      <th>Khizra</th>\n",
       "      <td>90</td>\n",
       "      <td>78</td>\n",
       "      <td>91</td>\n",
       "      <td>259</td>\n",
       "      <td>Pass</td>\n",
       "      <td>86.333333</td>\n",
       "    </tr>\n",
       "    <tr>\n",
       "      <th>Ayesha</th>\n",
       "      <td>82</td>\n",
       "      <td>59</td>\n",
       "      <td>77</td>\n",
       "      <td>218</td>\n",
       "      <td>Pass</td>\n",
       "      <td>72.666667</td>\n",
       "    </tr>\n",
       "    <tr>\n",
       "      <th>Dania</th>\n",
       "      <td>85</td>\n",
       "      <td>89</td>\n",
       "      <td>67</td>\n",
       "      <td>241</td>\n",
       "      <td>Pass</td>\n",
       "      <td>80.333333</td>\n",
       "    </tr>\n",
       "    <tr>\n",
       "      <th>Hadiqa</th>\n",
       "      <td>79</td>\n",
       "      <td>80</td>\n",
       "      <td>55</td>\n",
       "      <td>214</td>\n",
       "      <td>Pass</td>\n",
       "      <td>71.333333</td>\n",
       "    </tr>\n",
       "    <tr>\n",
       "      <th>Zubia</th>\n",
       "      <td>68</td>\n",
       "      <td>56</td>\n",
       "      <td>55</td>\n",
       "      <td>179</td>\n",
       "      <td>Fail</td>\n",
       "      <td>59.666667</td>\n",
       "    </tr>\n",
       "    <tr>\n",
       "      <th>Wajiha</th>\n",
       "      <td>78</td>\n",
       "      <td>65</td>\n",
       "      <td>55</td>\n",
       "      <td>198</td>\n",
       "      <td>Fail</td>\n",
       "      <td>66.000000</td>\n",
       "    </tr>\n",
       "    <tr>\n",
       "      <th>Ali</th>\n",
       "      <td>67</td>\n",
       "      <td>89</td>\n",
       "      <td>98</td>\n",
       "      <td>1</td>\n",
       "      <td>Fail</td>\n",
       "      <td>3.000000</td>\n",
       "    </tr>\n",
       "  </tbody>\n",
       "</table>\n",
       "</div>"
      ],
      "text/plain": [
       "        AI for Everyone  Python1  Python2  Total Marks Status  Percentage\n",
       "Khizra               90       78       91          259   Pass   86.333333\n",
       "Ayesha               82       59       77          218   Pass   72.666667\n",
       "Dania                85       89       67          241   Pass   80.333333\n",
       "Hadiqa               79       80       55          214   Pass   71.333333\n",
       "Zubia                68       56       55          179   Fail   59.666667\n",
       "Wajiha               78       65       55          198   Fail   66.000000\n",
       "Ali                  67       89       98            1   Fail    3.000000"
      ]
     },
     "execution_count": 63,
     "metadata": {},
     "output_type": "execute_result"
    }
   ],
   "source": [
    "df['Status'] = ['Pass'if Marks>=200 else 'Fail' for Marks in df['Total Marks']]\n",
    "df"
   ]
  },
  {
   "cell_type": "code",
   "execution_count": 64,
   "metadata": {},
   "outputs": [
    {
     "data": {
      "text/html": [
       "<div>\n",
       "<style scoped>\n",
       "    .dataframe tbody tr th:only-of-type {\n",
       "        vertical-align: middle;\n",
       "    }\n",
       "\n",
       "    .dataframe tbody tr th {\n",
       "        vertical-align: top;\n",
       "    }\n",
       "\n",
       "    .dataframe thead th {\n",
       "        text-align: right;\n",
       "    }\n",
       "</style>\n",
       "<table border=\"1\" class=\"dataframe\">\n",
       "  <thead>\n",
       "    <tr style=\"text-align: right;\">\n",
       "      <th></th>\n",
       "      <th>AI for Everyone</th>\n",
       "      <th>Python1</th>\n",
       "      <th>Python2</th>\n",
       "      <th>Total Marks</th>\n",
       "      <th>Status</th>\n",
       "      <th>Percentage</th>\n",
       "    </tr>\n",
       "  </thead>\n",
       "  <tbody>\n",
       "    <tr>\n",
       "      <th>Khizra</th>\n",
       "      <td>90</td>\n",
       "      <td>78</td>\n",
       "      <td>91</td>\n",
       "      <td>259</td>\n",
       "      <td>Pass</td>\n",
       "      <td>86.333333</td>\n",
       "    </tr>\n",
       "    <tr>\n",
       "      <th>Ayesha</th>\n",
       "      <td>82</td>\n",
       "      <td>59</td>\n",
       "      <td>77</td>\n",
       "      <td>218</td>\n",
       "      <td>Pass</td>\n",
       "      <td>72.666667</td>\n",
       "    </tr>\n",
       "    <tr>\n",
       "      <th>Dania</th>\n",
       "      <td>85</td>\n",
       "      <td>89</td>\n",
       "      <td>67</td>\n",
       "      <td>241</td>\n",
       "      <td>Pass</td>\n",
       "      <td>80.333333</td>\n",
       "    </tr>\n",
       "    <tr>\n",
       "      <th>Hadiqa</th>\n",
       "      <td>79</td>\n",
       "      <td>80</td>\n",
       "      <td>55</td>\n",
       "      <td>214</td>\n",
       "      <td>Pass</td>\n",
       "      <td>71.333333</td>\n",
       "    </tr>\n",
       "    <tr>\n",
       "      <th>Zubia</th>\n",
       "      <td>68</td>\n",
       "      <td>56</td>\n",
       "      <td>55</td>\n",
       "      <td>179</td>\n",
       "      <td>Fail</td>\n",
       "      <td>59.666667</td>\n",
       "    </tr>\n",
       "    <tr>\n",
       "      <th>Wajiha</th>\n",
       "      <td>78</td>\n",
       "      <td>65</td>\n",
       "      <td>55</td>\n",
       "      <td>198</td>\n",
       "      <td>Fail</td>\n",
       "      <td>66.000000</td>\n",
       "    </tr>\n",
       "    <tr>\n",
       "      <th>Ali</th>\n",
       "      <td>67</td>\n",
       "      <td>89</td>\n",
       "      <td>98</td>\n",
       "      <td>1</td>\n",
       "      <td>Fail</td>\n",
       "      <td>0.333333</td>\n",
       "    </tr>\n",
       "  </tbody>\n",
       "</table>\n",
       "</div>"
      ],
      "text/plain": [
       "        AI for Everyone  Python1  Python2  Total Marks Status  Percentage\n",
       "Khizra               90       78       91          259   Pass   86.333333\n",
       "Ayesha               82       59       77          218   Pass   72.666667\n",
       "Dania                85       89       67          241   Pass   80.333333\n",
       "Hadiqa               79       80       55          214   Pass   71.333333\n",
       "Zubia                68       56       55          179   Fail   59.666667\n",
       "Wajiha               78       65       55          198   Fail   66.000000\n",
       "Ali                  67       89       98            1   Fail    0.333333"
      ]
     },
     "execution_count": 64,
     "metadata": {},
     "output_type": "execute_result"
    }
   ],
   "source": [
    "df['Percentage']= (df['Total Marks']/300)*100\n",
    "df"
   ]
  },
  {
   "cell_type": "code",
   "execution_count": 65,
   "metadata": {},
   "outputs": [
    {
     "name": "stdout",
     "output_type": "stream",
     "text": [
      "Even nos [2, 4, 6, 8]\n",
      "Odd nos [3, 5, 1, 7, 9]\n"
     ]
    }
   ],
   "source": [
    "numbers = [2,3,4,5,1,6,7,8,9]\n",
    "evenArr = []\n",
    "oddArr = []\n",
    "for num in numbers:\n",
    "    if num%2 == 0:\n",
    "        evenArr.append(num)\n",
    "    else:\n",
    "        oddArr.append(num)\n",
    "print('Even nos',evenArr)\n",
    "print('Odd nos', oddArr)"
   ]
  },
  {
   "cell_type": "code",
   "execution_count": 66,
   "metadata": {},
   "outputs": [
    {
     "data": {
      "text/plain": [
       "[2, 4, 6, 8]"
      ]
     },
     "execution_count": 66,
     "metadata": {},
     "output_type": "execute_result"
    }
   ],
   "source": [
    "[num for num in numbers if num%2 == 0]"
   ]
  },
  {
   "cell_type": "code",
   "execution_count": 67,
   "metadata": {},
   "outputs": [
    {
     "data": {
      "text/plain": [
       "[0, 1, 2, 3, 4]"
      ]
     },
     "execution_count": 67,
     "metadata": {},
     "output_type": "execute_result"
    }
   ],
   "source": [
    "a = list(range(5))\n",
    "b = list(range(6,11))\n",
    "a"
   ]
  },
  {
   "cell_type": "code",
   "execution_count": 68,
   "metadata": {},
   "outputs": [
    {
     "data": {
      "text/plain": [
       "[6, 7, 8, 9, 10]"
      ]
     },
     "execution_count": 68,
     "metadata": {},
     "output_type": "execute_result"
    }
   ],
   "source": [
    "b"
   ]
  },
  {
   "cell_type": "code",
   "execution_count": 69,
   "metadata": {},
   "outputs": [
    {
     "name": "stdout",
     "output_type": "stream",
     "text": [
      "(0, 6)\n",
      "(1, 7)\n",
      "(2, 8)\n",
      "(3, 9)\n",
      "(4, 10)\n"
     ]
    }
   ],
   "source": [
    "c = zip(a,b)\n",
    "for i in c:\n",
    "    print(i)"
   ]
  },
  {
   "cell_type": "code",
   "execution_count": 70,
   "metadata": {},
   "outputs": [],
   "source": [
    "df['Status']=['Pass' if AI>=60 and P1>=60 and P2>=60 else 'Fail'\n",
    "for AI,P1,P2 in zip(df['AI for Everyone'], df['Python1'], df['Python2'])]"
   ]
  },
  {
   "cell_type": "code",
   "execution_count": 71,
   "metadata": {},
   "outputs": [
    {
     "data": {
      "text/html": [
       "<div>\n",
       "<style scoped>\n",
       "    .dataframe tbody tr th:only-of-type {\n",
       "        vertical-align: middle;\n",
       "    }\n",
       "\n",
       "    .dataframe tbody tr th {\n",
       "        vertical-align: top;\n",
       "    }\n",
       "\n",
       "    .dataframe thead th {\n",
       "        text-align: right;\n",
       "    }\n",
       "</style>\n",
       "<table border=\"1\" class=\"dataframe\">\n",
       "  <thead>\n",
       "    <tr style=\"text-align: right;\">\n",
       "      <th></th>\n",
       "      <th>AI for Everyone</th>\n",
       "      <th>Python1</th>\n",
       "      <th>Python2</th>\n",
       "      <th>Total Marks</th>\n",
       "      <th>Status</th>\n",
       "      <th>Percentage</th>\n",
       "    </tr>\n",
       "  </thead>\n",
       "  <tbody>\n",
       "    <tr>\n",
       "      <th>Khizra</th>\n",
       "      <td>90</td>\n",
       "      <td>78</td>\n",
       "      <td>91</td>\n",
       "      <td>259</td>\n",
       "      <td>Pass</td>\n",
       "      <td>86.333333</td>\n",
       "    </tr>\n",
       "    <tr>\n",
       "      <th>Ayesha</th>\n",
       "      <td>82</td>\n",
       "      <td>59</td>\n",
       "      <td>77</td>\n",
       "      <td>218</td>\n",
       "      <td>Fail</td>\n",
       "      <td>72.666667</td>\n",
       "    </tr>\n",
       "    <tr>\n",
       "      <th>Dania</th>\n",
       "      <td>85</td>\n",
       "      <td>89</td>\n",
       "      <td>67</td>\n",
       "      <td>241</td>\n",
       "      <td>Pass</td>\n",
       "      <td>80.333333</td>\n",
       "    </tr>\n",
       "    <tr>\n",
       "      <th>Hadiqa</th>\n",
       "      <td>79</td>\n",
       "      <td>80</td>\n",
       "      <td>55</td>\n",
       "      <td>214</td>\n",
       "      <td>Fail</td>\n",
       "      <td>71.333333</td>\n",
       "    </tr>\n",
       "    <tr>\n",
       "      <th>Zubia</th>\n",
       "      <td>68</td>\n",
       "      <td>56</td>\n",
       "      <td>55</td>\n",
       "      <td>179</td>\n",
       "      <td>Fail</td>\n",
       "      <td>59.666667</td>\n",
       "    </tr>\n",
       "    <tr>\n",
       "      <th>Wajiha</th>\n",
       "      <td>78</td>\n",
       "      <td>65</td>\n",
       "      <td>55</td>\n",
       "      <td>198</td>\n",
       "      <td>Fail</td>\n",
       "      <td>66.000000</td>\n",
       "    </tr>\n",
       "    <tr>\n",
       "      <th>Ali</th>\n",
       "      <td>67</td>\n",
       "      <td>89</td>\n",
       "      <td>98</td>\n",
       "      <td>1</td>\n",
       "      <td>Pass</td>\n",
       "      <td>0.333333</td>\n",
       "    </tr>\n",
       "  </tbody>\n",
       "</table>\n",
       "</div>"
      ],
      "text/plain": [
       "        AI for Everyone  Python1  Python2  Total Marks Status  Percentage\n",
       "Khizra               90       78       91          259   Pass   86.333333\n",
       "Ayesha               82       59       77          218   Fail   72.666667\n",
       "Dania                85       89       67          241   Pass   80.333333\n",
       "Hadiqa               79       80       55          214   Fail   71.333333\n",
       "Zubia                68       56       55          179   Fail   59.666667\n",
       "Wajiha               78       65       55          198   Fail   66.000000\n",
       "Ali                  67       89       98            1   Pass    0.333333"
      ]
     },
     "execution_count": 71,
     "metadata": {},
     "output_type": "execute_result"
    }
   ],
   "source": [
    "df"
   ]
  },
  {
   "cell_type": "code",
   "execution_count": 72,
   "metadata": {},
   "outputs": [
    {
     "data": {
      "text/html": [
       "<div>\n",
       "<style scoped>\n",
       "    .dataframe tbody tr th:only-of-type {\n",
       "        vertical-align: middle;\n",
       "    }\n",
       "\n",
       "    .dataframe tbody tr th {\n",
       "        vertical-align: top;\n",
       "    }\n",
       "\n",
       "    .dataframe thead th {\n",
       "        text-align: right;\n",
       "    }\n",
       "</style>\n",
       "<table border=\"1\" class=\"dataframe\">\n",
       "  <thead>\n",
       "    <tr style=\"text-align: right;\">\n",
       "      <th></th>\n",
       "      <th>AI for Everyone</th>\n",
       "      <th>Python1</th>\n",
       "      <th>Python2</th>\n",
       "      <th>Total Marks</th>\n",
       "      <th>Status</th>\n",
       "      <th>Percentage</th>\n",
       "    </tr>\n",
       "  </thead>\n",
       "  <tbody>\n",
       "    <tr>\n",
       "      <th>Khizra</th>\n",
       "      <td>90</td>\n",
       "      <td>78</td>\n",
       "      <td>91</td>\n",
       "      <td>259</td>\n",
       "      <td>Pass</td>\n",
       "      <td>86.333333</td>\n",
       "    </tr>\n",
       "    <tr>\n",
       "      <th>Ayesha</th>\n",
       "      <td>82</td>\n",
       "      <td>59</td>\n",
       "      <td>77</td>\n",
       "      <td>218</td>\n",
       "      <td>Fail</td>\n",
       "      <td>72.666667</td>\n",
       "    </tr>\n",
       "    <tr>\n",
       "      <th>Dania</th>\n",
       "      <td>85</td>\n",
       "      <td>89</td>\n",
       "      <td>67</td>\n",
       "      <td>241</td>\n",
       "      <td>Pass</td>\n",
       "      <td>80.333333</td>\n",
       "    </tr>\n",
       "    <tr>\n",
       "      <th>Hadiqa</th>\n",
       "      <td>79</td>\n",
       "      <td>80</td>\n",
       "      <td>55</td>\n",
       "      <td>214</td>\n",
       "      <td>Fail</td>\n",
       "      <td>71.333333</td>\n",
       "    </tr>\n",
       "    <tr>\n",
       "      <th>Zubia</th>\n",
       "      <td>68</td>\n",
       "      <td>56</td>\n",
       "      <td>55</td>\n",
       "      <td>179</td>\n",
       "      <td>Fail</td>\n",
       "      <td>59.666667</td>\n",
       "    </tr>\n",
       "  </tbody>\n",
       "</table>\n",
       "</div>"
      ],
      "text/plain": [
       "        AI for Everyone  Python1  Python2  Total Marks Status  Percentage\n",
       "Khizra               90       78       91          259   Pass   86.333333\n",
       "Ayesha               82       59       77          218   Fail   72.666667\n",
       "Dania                85       89       67          241   Pass   80.333333\n",
       "Hadiqa               79       80       55          214   Fail   71.333333\n",
       "Zubia                68       56       55          179   Fail   59.666667"
      ]
     },
     "execution_count": 72,
     "metadata": {},
     "output_type": "execute_result"
    }
   ],
   "source": [
    "df.head()#top 5 data"
   ]
  },
  {
   "cell_type": "code",
   "execution_count": 73,
   "metadata": {},
   "outputs": [
    {
     "data": {
      "text/html": [
       "<div>\n",
       "<style scoped>\n",
       "    .dataframe tbody tr th:only-of-type {\n",
       "        vertical-align: middle;\n",
       "    }\n",
       "\n",
       "    .dataframe tbody tr th {\n",
       "        vertical-align: top;\n",
       "    }\n",
       "\n",
       "    .dataframe thead th {\n",
       "        text-align: right;\n",
       "    }\n",
       "</style>\n",
       "<table border=\"1\" class=\"dataframe\">\n",
       "  <thead>\n",
       "    <tr style=\"text-align: right;\">\n",
       "      <th></th>\n",
       "      <th>AI for Everyone</th>\n",
       "      <th>Python1</th>\n",
       "      <th>Python2</th>\n",
       "      <th>Total Marks</th>\n",
       "      <th>Status</th>\n",
       "      <th>Percentage</th>\n",
       "    </tr>\n",
       "  </thead>\n",
       "  <tbody>\n",
       "    <tr>\n",
       "      <th>Dania</th>\n",
       "      <td>85</td>\n",
       "      <td>89</td>\n",
       "      <td>67</td>\n",
       "      <td>241</td>\n",
       "      <td>Pass</td>\n",
       "      <td>80.333333</td>\n",
       "    </tr>\n",
       "    <tr>\n",
       "      <th>Hadiqa</th>\n",
       "      <td>79</td>\n",
       "      <td>80</td>\n",
       "      <td>55</td>\n",
       "      <td>214</td>\n",
       "      <td>Fail</td>\n",
       "      <td>71.333333</td>\n",
       "    </tr>\n",
       "    <tr>\n",
       "      <th>Zubia</th>\n",
       "      <td>68</td>\n",
       "      <td>56</td>\n",
       "      <td>55</td>\n",
       "      <td>179</td>\n",
       "      <td>Fail</td>\n",
       "      <td>59.666667</td>\n",
       "    </tr>\n",
       "    <tr>\n",
       "      <th>Wajiha</th>\n",
       "      <td>78</td>\n",
       "      <td>65</td>\n",
       "      <td>55</td>\n",
       "      <td>198</td>\n",
       "      <td>Fail</td>\n",
       "      <td>66.000000</td>\n",
       "    </tr>\n",
       "    <tr>\n",
       "      <th>Ali</th>\n",
       "      <td>67</td>\n",
       "      <td>89</td>\n",
       "      <td>98</td>\n",
       "      <td>1</td>\n",
       "      <td>Pass</td>\n",
       "      <td>0.333333</td>\n",
       "    </tr>\n",
       "  </tbody>\n",
       "</table>\n",
       "</div>"
      ],
      "text/plain": [
       "        AI for Everyone  Python1  Python2  Total Marks Status  Percentage\n",
       "Dania                85       89       67          241   Pass   80.333333\n",
       "Hadiqa               79       80       55          214   Fail   71.333333\n",
       "Zubia                68       56       55          179   Fail   59.666667\n",
       "Wajiha               78       65       55          198   Fail   66.000000\n",
       "Ali                  67       89       98            1   Pass    0.333333"
      ]
     },
     "execution_count": 73,
     "metadata": {},
     "output_type": "execute_result"
    }
   ],
   "source": [
    "df.tail()"
   ]
  },
  {
   "cell_type": "code",
   "execution_count": 74,
   "metadata": {},
   "outputs": [
    {
     "ename": "KeyError",
     "evalue": "'TOtal Marks'",
     "output_type": "error",
     "traceback": [
      "\u001b[1;31m---------------------------------------------------------------------------\u001b[0m",
      "\u001b[1;31mKeyError\u001b[0m                                  Traceback (most recent call last)",
      "\u001b[1;32mC:\\ProgramData\\Anaconda3\\lib\\site-packages\\pandas\\core\\indexes\\base.py\u001b[0m in \u001b[0;36mget_loc\u001b[1;34m(self, key, method, tolerance)\u001b[0m\n\u001b[0;32m   2656\u001b[0m             \u001b[1;32mtry\u001b[0m\u001b[1;33m:\u001b[0m\u001b[1;33m\u001b[0m\u001b[1;33m\u001b[0m\u001b[0m\n\u001b[1;32m-> 2657\u001b[1;33m                 \u001b[1;32mreturn\u001b[0m \u001b[0mself\u001b[0m\u001b[1;33m.\u001b[0m\u001b[0m_engine\u001b[0m\u001b[1;33m.\u001b[0m\u001b[0mget_loc\u001b[0m\u001b[1;33m(\u001b[0m\u001b[0mkey\u001b[0m\u001b[1;33m)\u001b[0m\u001b[1;33m\u001b[0m\u001b[1;33m\u001b[0m\u001b[0m\n\u001b[0m\u001b[0;32m   2658\u001b[0m             \u001b[1;32mexcept\u001b[0m \u001b[0mKeyError\u001b[0m\u001b[1;33m:\u001b[0m\u001b[1;33m\u001b[0m\u001b[1;33m\u001b[0m\u001b[0m\n",
      "\u001b[1;32mpandas/_libs/index.pyx\u001b[0m in \u001b[0;36mpandas._libs.index.IndexEngine.get_loc\u001b[1;34m()\u001b[0m\n",
      "\u001b[1;32mpandas/_libs/index.pyx\u001b[0m in \u001b[0;36mpandas._libs.index.IndexEngine.get_loc\u001b[1;34m()\u001b[0m\n",
      "\u001b[1;32mpandas/_libs/hashtable_class_helper.pxi\u001b[0m in \u001b[0;36mpandas._libs.hashtable.PyObjectHashTable.get_item\u001b[1;34m()\u001b[0m\n",
      "\u001b[1;32mpandas/_libs/hashtable_class_helper.pxi\u001b[0m in \u001b[0;36mpandas._libs.hashtable.PyObjectHashTable.get_item\u001b[1;34m()\u001b[0m\n",
      "\u001b[1;31mKeyError\u001b[0m: 'TOtal Marks'",
      "\nDuring handling of the above exception, another exception occurred:\n",
      "\u001b[1;31mKeyError\u001b[0m                                  Traceback (most recent call last)",
      "\u001b[1;32m<ipython-input-74-112a6789d92b>\u001b[0m in \u001b[0;36m<module>\u001b[1;34m\u001b[0m\n\u001b[1;32m----> 1\u001b[1;33m \u001b[1;32mdel\u001b[0m \u001b[0mdf\u001b[0m\u001b[1;33m[\u001b[0m\u001b[1;34m'TOtal Marks'\u001b[0m\u001b[1;33m]\u001b[0m\u001b[1;33m\u001b[0m\u001b[1;33m\u001b[0m\u001b[0m\n\u001b[0m",
      "\u001b[1;32mC:\\ProgramData\\Anaconda3\\lib\\site-packages\\pandas\\core\\generic.py\u001b[0m in \u001b[0;36m__delitem__\u001b[1;34m(self, key)\u001b[0m\n\u001b[0;32m   3313\u001b[0m             \u001b[1;31m# there was no match, this call should raise the appropriate\u001b[0m\u001b[1;33m\u001b[0m\u001b[1;33m\u001b[0m\u001b[1;33m\u001b[0m\u001b[0m\n\u001b[0;32m   3314\u001b[0m             \u001b[1;31m# exception:\u001b[0m\u001b[1;33m\u001b[0m\u001b[1;33m\u001b[0m\u001b[1;33m\u001b[0m\u001b[0m\n\u001b[1;32m-> 3315\u001b[1;33m             \u001b[0mself\u001b[0m\u001b[1;33m.\u001b[0m\u001b[0m_data\u001b[0m\u001b[1;33m.\u001b[0m\u001b[0mdelete\u001b[0m\u001b[1;33m(\u001b[0m\u001b[0mkey\u001b[0m\u001b[1;33m)\u001b[0m\u001b[1;33m\u001b[0m\u001b[1;33m\u001b[0m\u001b[0m\n\u001b[0m\u001b[0;32m   3316\u001b[0m \u001b[1;33m\u001b[0m\u001b[0m\n\u001b[0;32m   3317\u001b[0m         \u001b[1;31m# delete from the caches\u001b[0m\u001b[1;33m\u001b[0m\u001b[1;33m\u001b[0m\u001b[1;33m\u001b[0m\u001b[0m\n",
      "\u001b[1;32mC:\\ProgramData\\Anaconda3\\lib\\site-packages\\pandas\\core\\internals\\managers.py\u001b[0m in \u001b[0;36mdelete\u001b[1;34m(self, item)\u001b[0m\n\u001b[0;32m    983\u001b[0m         \u001b[0mDelete\u001b[0m \u001b[0mselected\u001b[0m \u001b[0mitem\u001b[0m \u001b[1;33m(\u001b[0m\u001b[0mitems\u001b[0m \u001b[1;32mif\u001b[0m \u001b[0mnon\u001b[0m\u001b[1;33m-\u001b[0m\u001b[0munique\u001b[0m\u001b[1;33m)\u001b[0m \u001b[1;32min\u001b[0m\u001b[1;33m-\u001b[0m\u001b[0mplace\u001b[0m\u001b[1;33m.\u001b[0m\u001b[1;33m\u001b[0m\u001b[1;33m\u001b[0m\u001b[0m\n\u001b[0;32m    984\u001b[0m         \"\"\"\n\u001b[1;32m--> 985\u001b[1;33m         \u001b[0mindexer\u001b[0m \u001b[1;33m=\u001b[0m \u001b[0mself\u001b[0m\u001b[1;33m.\u001b[0m\u001b[0mitems\u001b[0m\u001b[1;33m.\u001b[0m\u001b[0mget_loc\u001b[0m\u001b[1;33m(\u001b[0m\u001b[0mitem\u001b[0m\u001b[1;33m)\u001b[0m\u001b[1;33m\u001b[0m\u001b[1;33m\u001b[0m\u001b[0m\n\u001b[0m\u001b[0;32m    986\u001b[0m \u001b[1;33m\u001b[0m\u001b[0m\n\u001b[0;32m    987\u001b[0m         \u001b[0mis_deleted\u001b[0m \u001b[1;33m=\u001b[0m \u001b[0mnp\u001b[0m\u001b[1;33m.\u001b[0m\u001b[0mzeros\u001b[0m\u001b[1;33m(\u001b[0m\u001b[0mself\u001b[0m\u001b[1;33m.\u001b[0m\u001b[0mshape\u001b[0m\u001b[1;33m[\u001b[0m\u001b[1;36m0\u001b[0m\u001b[1;33m]\u001b[0m\u001b[1;33m,\u001b[0m \u001b[0mdtype\u001b[0m\u001b[1;33m=\u001b[0m\u001b[0mnp\u001b[0m\u001b[1;33m.\u001b[0m\u001b[0mbool_\u001b[0m\u001b[1;33m)\u001b[0m\u001b[1;33m\u001b[0m\u001b[1;33m\u001b[0m\u001b[0m\n",
      "\u001b[1;32mC:\\ProgramData\\Anaconda3\\lib\\site-packages\\pandas\\core\\indexes\\base.py\u001b[0m in \u001b[0;36mget_loc\u001b[1;34m(self, key, method, tolerance)\u001b[0m\n\u001b[0;32m   2657\u001b[0m                 \u001b[1;32mreturn\u001b[0m \u001b[0mself\u001b[0m\u001b[1;33m.\u001b[0m\u001b[0m_engine\u001b[0m\u001b[1;33m.\u001b[0m\u001b[0mget_loc\u001b[0m\u001b[1;33m(\u001b[0m\u001b[0mkey\u001b[0m\u001b[1;33m)\u001b[0m\u001b[1;33m\u001b[0m\u001b[1;33m\u001b[0m\u001b[0m\n\u001b[0;32m   2658\u001b[0m             \u001b[1;32mexcept\u001b[0m \u001b[0mKeyError\u001b[0m\u001b[1;33m:\u001b[0m\u001b[1;33m\u001b[0m\u001b[1;33m\u001b[0m\u001b[0m\n\u001b[1;32m-> 2659\u001b[1;33m                 \u001b[1;32mreturn\u001b[0m \u001b[0mself\u001b[0m\u001b[1;33m.\u001b[0m\u001b[0m_engine\u001b[0m\u001b[1;33m.\u001b[0m\u001b[0mget_loc\u001b[0m\u001b[1;33m(\u001b[0m\u001b[0mself\u001b[0m\u001b[1;33m.\u001b[0m\u001b[0m_maybe_cast_indexer\u001b[0m\u001b[1;33m(\u001b[0m\u001b[0mkey\u001b[0m\u001b[1;33m)\u001b[0m\u001b[1;33m)\u001b[0m\u001b[1;33m\u001b[0m\u001b[1;33m\u001b[0m\u001b[0m\n\u001b[0m\u001b[0;32m   2660\u001b[0m         \u001b[0mindexer\u001b[0m \u001b[1;33m=\u001b[0m \u001b[0mself\u001b[0m\u001b[1;33m.\u001b[0m\u001b[0mget_indexer\u001b[0m\u001b[1;33m(\u001b[0m\u001b[1;33m[\u001b[0m\u001b[0mkey\u001b[0m\u001b[1;33m]\u001b[0m\u001b[1;33m,\u001b[0m \u001b[0mmethod\u001b[0m\u001b[1;33m=\u001b[0m\u001b[0mmethod\u001b[0m\u001b[1;33m,\u001b[0m \u001b[0mtolerance\u001b[0m\u001b[1;33m=\u001b[0m\u001b[0mtolerance\u001b[0m\u001b[1;33m)\u001b[0m\u001b[1;33m\u001b[0m\u001b[1;33m\u001b[0m\u001b[0m\n\u001b[0;32m   2661\u001b[0m         \u001b[1;32mif\u001b[0m \u001b[0mindexer\u001b[0m\u001b[1;33m.\u001b[0m\u001b[0mndim\u001b[0m \u001b[1;33m>\u001b[0m \u001b[1;36m1\u001b[0m \u001b[1;32mor\u001b[0m \u001b[0mindexer\u001b[0m\u001b[1;33m.\u001b[0m\u001b[0msize\u001b[0m \u001b[1;33m>\u001b[0m \u001b[1;36m1\u001b[0m\u001b[1;33m:\u001b[0m\u001b[1;33m\u001b[0m\u001b[1;33m\u001b[0m\u001b[0m\n",
      "\u001b[1;32mpandas/_libs/index.pyx\u001b[0m in \u001b[0;36mpandas._libs.index.IndexEngine.get_loc\u001b[1;34m()\u001b[0m\n",
      "\u001b[1;32mpandas/_libs/index.pyx\u001b[0m in \u001b[0;36mpandas._libs.index.IndexEngine.get_loc\u001b[1;34m()\u001b[0m\n",
      "\u001b[1;32mpandas/_libs/hashtable_class_helper.pxi\u001b[0m in \u001b[0;36mpandas._libs.hashtable.PyObjectHashTable.get_item\u001b[1;34m()\u001b[0m\n",
      "\u001b[1;32mpandas/_libs/hashtable_class_helper.pxi\u001b[0m in \u001b[0;36mpandas._libs.hashtable.PyObjectHashTable.get_item\u001b[1;34m()\u001b[0m\n",
      "\u001b[1;31mKeyError\u001b[0m: 'TOtal Marks'"
     ]
    }
   ],
   "source": [
    "del df['TOtal Marks']"
   ]
  },
  {
   "cell_type": "code",
   "execution_count": 76,
   "metadata": {},
   "outputs": [
    {
     "data": {
      "text/html": [
       "<div>\n",
       "<style scoped>\n",
       "    .dataframe tbody tr th:only-of-type {\n",
       "        vertical-align: middle;\n",
       "    }\n",
       "\n",
       "    .dataframe tbody tr th {\n",
       "        vertical-align: top;\n",
       "    }\n",
       "\n",
       "    .dataframe thead th {\n",
       "        text-align: right;\n",
       "    }\n",
       "</style>\n",
       "<table border=\"1\" class=\"dataframe\">\n",
       "  <thead>\n",
       "    <tr style=\"text-align: right;\">\n",
       "      <th></th>\n",
       "      <th>AI for Everyone</th>\n",
       "      <th>Python1</th>\n",
       "      <th>Python2</th>\n",
       "      <th>Total Marks</th>\n",
       "      <th>Status</th>\n",
       "      <th>Percentage</th>\n",
       "    </tr>\n",
       "  </thead>\n",
       "  <tbody>\n",
       "    <tr>\n",
       "      <th>Khizra</th>\n",
       "      <td>90</td>\n",
       "      <td>78</td>\n",
       "      <td>91</td>\n",
       "      <td>259</td>\n",
       "      <td>Pass</td>\n",
       "      <td>86.333333</td>\n",
       "    </tr>\n",
       "    <tr>\n",
       "      <th>Ayesha</th>\n",
       "      <td>82</td>\n",
       "      <td>59</td>\n",
       "      <td>77</td>\n",
       "      <td>218</td>\n",
       "      <td>Fail</td>\n",
       "      <td>72.666667</td>\n",
       "    </tr>\n",
       "    <tr>\n",
       "      <th>Dania</th>\n",
       "      <td>85</td>\n",
       "      <td>89</td>\n",
       "      <td>67</td>\n",
       "      <td>241</td>\n",
       "      <td>Pass</td>\n",
       "      <td>80.333333</td>\n",
       "    </tr>\n",
       "    <tr>\n",
       "      <th>Hadiqa</th>\n",
       "      <td>79</td>\n",
       "      <td>80</td>\n",
       "      <td>55</td>\n",
       "      <td>214</td>\n",
       "      <td>Fail</td>\n",
       "      <td>71.333333</td>\n",
       "    </tr>\n",
       "    <tr>\n",
       "      <th>Zubia</th>\n",
       "      <td>68</td>\n",
       "      <td>56</td>\n",
       "      <td>55</td>\n",
       "      <td>179</td>\n",
       "      <td>Fail</td>\n",
       "      <td>59.666667</td>\n",
       "    </tr>\n",
       "    <tr>\n",
       "      <th>Wajiha</th>\n",
       "      <td>78</td>\n",
       "      <td>65</td>\n",
       "      <td>55</td>\n",
       "      <td>198</td>\n",
       "      <td>Fail</td>\n",
       "      <td>66.000000</td>\n",
       "    </tr>\n",
       "    <tr>\n",
       "      <th>Ali</th>\n",
       "      <td>67</td>\n",
       "      <td>89</td>\n",
       "      <td>98</td>\n",
       "      <td>1</td>\n",
       "      <td>Pass</td>\n",
       "      <td>0.333333</td>\n",
       "    </tr>\n",
       "  </tbody>\n",
       "</table>\n",
       "</div>"
      ],
      "text/plain": [
       "        AI for Everyone  Python1  Python2  Total Marks Status  Percentage\n",
       "Khizra               90       78       91          259   Pass   86.333333\n",
       "Ayesha               82       59       77          218   Fail   72.666667\n",
       "Dania                85       89       67          241   Pass   80.333333\n",
       "Hadiqa               79       80       55          214   Fail   71.333333\n",
       "Zubia                68       56       55          179   Fail   59.666667\n",
       "Wajiha               78       65       55          198   Fail   66.000000\n",
       "Ali                  67       89       98            1   Pass    0.333333"
      ]
     },
     "execution_count": 76,
     "metadata": {},
     "output_type": "execute_result"
    }
   ],
   "source": [
    "df"
   ]
  },
  {
   "cell_type": "code",
   "execution_count": 25,
   "metadata": {},
   "outputs": [
    {
     "data": {
      "text/plain": [
       "AI for Everyone         90\n",
       "Python1                 78\n",
       "Python2                 91\n",
       "Total Marks            259\n",
       "Status                Pass\n",
       "Percentage         86.3333\n",
       "Name: Khizra, dtype: object"
      ]
     },
     "execution_count": 25,
     "metadata": {},
     "output_type": "execute_result"
    }
   ],
   "source": [
    "df.loc['Khizra']"
   ]
  },
  {
   "cell_type": "code",
   "execution_count": 77,
   "metadata": {},
   "outputs": [
    {
     "data": {
      "text/html": [
       "<div>\n",
       "<style scoped>\n",
       "    .dataframe tbody tr th:only-of-type {\n",
       "        vertical-align: middle;\n",
       "    }\n",
       "\n",
       "    .dataframe tbody tr th {\n",
       "        vertical-align: top;\n",
       "    }\n",
       "\n",
       "    .dataframe thead th {\n",
       "        text-align: right;\n",
       "    }\n",
       "</style>\n",
       "<table border=\"1\" class=\"dataframe\">\n",
       "  <thead>\n",
       "    <tr style=\"text-align: right;\">\n",
       "      <th></th>\n",
       "      <th>AI for Everyone</th>\n",
       "      <th>Python1</th>\n",
       "      <th>Python2</th>\n",
       "      <th>Total Marks</th>\n",
       "      <th>Status</th>\n",
       "      <th>Percentage</th>\n",
       "    </tr>\n",
       "  </thead>\n",
       "  <tbody>\n",
       "    <tr>\n",
       "      <th>Ayesha</th>\n",
       "      <td>82</td>\n",
       "      <td>59</td>\n",
       "      <td>77</td>\n",
       "      <td>218</td>\n",
       "      <td>Fail</td>\n",
       "      <td>72.666667</td>\n",
       "    </tr>\n",
       "    <tr>\n",
       "      <th>Dania</th>\n",
       "      <td>85</td>\n",
       "      <td>89</td>\n",
       "      <td>67</td>\n",
       "      <td>241</td>\n",
       "      <td>Pass</td>\n",
       "      <td>80.333333</td>\n",
       "    </tr>\n",
       "    <tr>\n",
       "      <th>Hadiqa</th>\n",
       "      <td>79</td>\n",
       "      <td>80</td>\n",
       "      <td>55</td>\n",
       "      <td>214</td>\n",
       "      <td>Fail</td>\n",
       "      <td>71.333333</td>\n",
       "    </tr>\n",
       "  </tbody>\n",
       "</table>\n",
       "</div>"
      ],
      "text/plain": [
       "        AI for Everyone  Python1  Python2  Total Marks Status  Percentage\n",
       "Ayesha               82       59       77          218   Fail   72.666667\n",
       "Dania                85       89       67          241   Pass   80.333333\n",
       "Hadiqa               79       80       55          214   Fail   71.333333"
      ]
     },
     "execution_count": 77,
     "metadata": {},
     "output_type": "execute_result"
    }
   ],
   "source": [
    "df.loc['Ayesha':'Hadiqa'] #loc also include last row"
   ]
  },
  {
   "cell_type": "code",
   "execution_count": 78,
   "metadata": {},
   "outputs": [
    {
     "data": {
      "text/plain": [
       "AI for Everyone         90\n",
       "Python1                 78\n",
       "Python2                 91\n",
       "Total Marks            259\n",
       "Status                Pass\n",
       "Percentage         86.3333\n",
       "Name: Khizra, dtype: object"
      ]
     },
     "execution_count": 78,
     "metadata": {},
     "output_type": "execute_result"
    }
   ],
   "source": [
    "df.iloc[0]"
   ]
  },
  {
   "cell_type": "code",
   "execution_count": 79,
   "metadata": {},
   "outputs": [
    {
     "data": {
      "text/html": [
       "<div>\n",
       "<style scoped>\n",
       "    .dataframe tbody tr th:only-of-type {\n",
       "        vertical-align: middle;\n",
       "    }\n",
       "\n",
       "    .dataframe tbody tr th {\n",
       "        vertical-align: top;\n",
       "    }\n",
       "\n",
       "    .dataframe thead th {\n",
       "        text-align: right;\n",
       "    }\n",
       "</style>\n",
       "<table border=\"1\" class=\"dataframe\">\n",
       "  <thead>\n",
       "    <tr style=\"text-align: right;\">\n",
       "      <th></th>\n",
       "      <th>AI for Everyone</th>\n",
       "      <th>Python1</th>\n",
       "      <th>Python2</th>\n",
       "      <th>Total Marks</th>\n",
       "      <th>Status</th>\n",
       "      <th>Percentage</th>\n",
       "    </tr>\n",
       "  </thead>\n",
       "  <tbody>\n",
       "    <tr>\n",
       "      <th>Ayesha</th>\n",
       "      <td>82</td>\n",
       "      <td>59</td>\n",
       "      <td>77</td>\n",
       "      <td>218</td>\n",
       "      <td>Fail</td>\n",
       "      <td>72.666667</td>\n",
       "    </tr>\n",
       "    <tr>\n",
       "      <th>Dania</th>\n",
       "      <td>85</td>\n",
       "      <td>89</td>\n",
       "      <td>67</td>\n",
       "      <td>241</td>\n",
       "      <td>Pass</td>\n",
       "      <td>80.333333</td>\n",
       "    </tr>\n",
       "    <tr>\n",
       "      <th>Hadiqa</th>\n",
       "      <td>79</td>\n",
       "      <td>80</td>\n",
       "      <td>55</td>\n",
       "      <td>214</td>\n",
       "      <td>Fail</td>\n",
       "      <td>71.333333</td>\n",
       "    </tr>\n",
       "    <tr>\n",
       "      <th>Zubia</th>\n",
       "      <td>68</td>\n",
       "      <td>56</td>\n",
       "      <td>55</td>\n",
       "      <td>179</td>\n",
       "      <td>Fail</td>\n",
       "      <td>59.666667</td>\n",
       "    </tr>\n",
       "  </tbody>\n",
       "</table>\n",
       "</div>"
      ],
      "text/plain": [
       "        AI for Everyone  Python1  Python2  Total Marks Status  Percentage\n",
       "Ayesha               82       59       77          218   Fail   72.666667\n",
       "Dania                85       89       67          241   Pass   80.333333\n",
       "Hadiqa               79       80       55          214   Fail   71.333333\n",
       "Zubia                68       56       55          179   Fail   59.666667"
      ]
     },
     "execution_count": 79,
     "metadata": {},
     "output_type": "execute_result"
    }
   ],
   "source": [
    "df.iloc[1:5]"
   ]
  },
  {
   "cell_type": "code",
   "execution_count": 80,
   "metadata": {},
   "outputs": [
    {
     "data": {
      "text/html": [
       "<div>\n",
       "<style scoped>\n",
       "    .dataframe tbody tr th:only-of-type {\n",
       "        vertical-align: middle;\n",
       "    }\n",
       "\n",
       "    .dataframe tbody tr th {\n",
       "        vertical-align: top;\n",
       "    }\n",
       "\n",
       "    .dataframe thead th {\n",
       "        text-align: right;\n",
       "    }\n",
       "</style>\n",
       "<table border=\"1\" class=\"dataframe\">\n",
       "  <thead>\n",
       "    <tr style=\"text-align: right;\">\n",
       "      <th></th>\n",
       "      <th>AI for Everyone</th>\n",
       "      <th>Python1</th>\n",
       "      <th>Python2</th>\n",
       "      <th>Total Marks</th>\n",
       "      <th>Status</th>\n",
       "      <th>Percentage</th>\n",
       "    </tr>\n",
       "  </thead>\n",
       "  <tbody>\n",
       "    <tr>\n",
       "      <th>Wajiha</th>\n",
       "      <td>78</td>\n",
       "      <td>65</td>\n",
       "      <td>55</td>\n",
       "      <td>198</td>\n",
       "      <td>Fail</td>\n",
       "      <td>66.000000</td>\n",
       "    </tr>\n",
       "    <tr>\n",
       "      <th>Zubia</th>\n",
       "      <td>68</td>\n",
       "      <td>56</td>\n",
       "      <td>55</td>\n",
       "      <td>179</td>\n",
       "      <td>Fail</td>\n",
       "      <td>59.666667</td>\n",
       "    </tr>\n",
       "    <tr>\n",
       "      <th>Hadiqa</th>\n",
       "      <td>79</td>\n",
       "      <td>80</td>\n",
       "      <td>55</td>\n",
       "      <td>214</td>\n",
       "      <td>Fail</td>\n",
       "      <td>71.333333</td>\n",
       "    </tr>\n",
       "    <tr>\n",
       "      <th>Dania</th>\n",
       "      <td>85</td>\n",
       "      <td>89</td>\n",
       "      <td>67</td>\n",
       "      <td>241</td>\n",
       "      <td>Pass</td>\n",
       "      <td>80.333333</td>\n",
       "    </tr>\n",
       "    <tr>\n",
       "      <th>Ayesha</th>\n",
       "      <td>82</td>\n",
       "      <td>59</td>\n",
       "      <td>77</td>\n",
       "      <td>218</td>\n",
       "      <td>Fail</td>\n",
       "      <td>72.666667</td>\n",
       "    </tr>\n",
       "    <tr>\n",
       "      <th>Khizra</th>\n",
       "      <td>90</td>\n",
       "      <td>78</td>\n",
       "      <td>91</td>\n",
       "      <td>259</td>\n",
       "      <td>Pass</td>\n",
       "      <td>86.333333</td>\n",
       "    </tr>\n",
       "  </tbody>\n",
       "</table>\n",
       "</div>"
      ],
      "text/plain": [
       "        AI for Everyone  Python1  Python2  Total Marks Status  Percentage\n",
       "Wajiha               78       65       55          198   Fail   66.000000\n",
       "Zubia                68       56       55          179   Fail   59.666667\n",
       "Hadiqa               79       80       55          214   Fail   71.333333\n",
       "Dania                85       89       67          241   Pass   80.333333\n",
       "Ayesha               82       59       77          218   Fail   72.666667\n",
       "Khizra               90       78       91          259   Pass   86.333333"
      ]
     },
     "execution_count": 80,
     "metadata": {},
     "output_type": "execute_result"
    }
   ],
   "source": [
    "df.loc['Wajiha'::-1]"
   ]
  },
  {
   "cell_type": "code",
   "execution_count": 81,
   "metadata": {},
   "outputs": [
    {
     "data": {
      "text/plain": [
       "67"
      ]
     },
     "execution_count": 81,
     "metadata": {},
     "output_type": "execute_result"
    }
   ],
   "source": [
    "df.loc['Dania']['Python2']"
   ]
  },
  {
   "cell_type": "code",
   "execution_count": 97,
   "metadata": {},
   "outputs": [],
   "source": [
    "df.loc['Ali']= [67,89,98,1,2,3]"
   ]
  },
  {
   "cell_type": "code",
   "execution_count": 98,
   "metadata": {},
   "outputs": [
    {
     "data": {
      "text/html": [
       "<div>\n",
       "<style scoped>\n",
       "    .dataframe tbody tr th:only-of-type {\n",
       "        vertical-align: middle;\n",
       "    }\n",
       "\n",
       "    .dataframe tbody tr th {\n",
       "        vertical-align: top;\n",
       "    }\n",
       "\n",
       "    .dataframe thead th {\n",
       "        text-align: right;\n",
       "    }\n",
       "</style>\n",
       "<table border=\"1\" class=\"dataframe\">\n",
       "  <thead>\n",
       "    <tr style=\"text-align: right;\">\n",
       "      <th></th>\n",
       "      <th>AI for Everyone</th>\n",
       "      <th>Python1</th>\n",
       "      <th>Python2</th>\n",
       "      <th>Total Marks</th>\n",
       "      <th>Status</th>\n",
       "      <th>Percentage</th>\n",
       "    </tr>\n",
       "  </thead>\n",
       "  <tbody>\n",
       "    <tr>\n",
       "      <th>Khizra</th>\n",
       "      <td>90</td>\n",
       "      <td>78</td>\n",
       "      <td>91</td>\n",
       "      <td>259</td>\n",
       "      <td>Pass</td>\n",
       "      <td>86.333333</td>\n",
       "    </tr>\n",
       "    <tr>\n",
       "      <th>Ayesha</th>\n",
       "      <td>82</td>\n",
       "      <td>59</td>\n",
       "      <td>77</td>\n",
       "      <td>218</td>\n",
       "      <td>Fail</td>\n",
       "      <td>72.666667</td>\n",
       "    </tr>\n",
       "    <tr>\n",
       "      <th>Dania</th>\n",
       "      <td>85</td>\n",
       "      <td>89</td>\n",
       "      <td>67</td>\n",
       "      <td>241</td>\n",
       "      <td>Pass</td>\n",
       "      <td>80.333333</td>\n",
       "    </tr>\n",
       "    <tr>\n",
       "      <th>Hadiqa</th>\n",
       "      <td>79</td>\n",
       "      <td>80</td>\n",
       "      <td>55</td>\n",
       "      <td>214</td>\n",
       "      <td>Fail</td>\n",
       "      <td>71.333333</td>\n",
       "    </tr>\n",
       "    <tr>\n",
       "      <th>Zubia</th>\n",
       "      <td>68</td>\n",
       "      <td>56</td>\n",
       "      <td>55</td>\n",
       "      <td>179</td>\n",
       "      <td>Fail</td>\n",
       "      <td>59.666667</td>\n",
       "    </tr>\n",
       "    <tr>\n",
       "      <th>Wajiha</th>\n",
       "      <td>78</td>\n",
       "      <td>65</td>\n",
       "      <td>55</td>\n",
       "      <td>198</td>\n",
       "      <td>Fail</td>\n",
       "      <td>66.000000</td>\n",
       "    </tr>\n",
       "    <tr>\n",
       "      <th>Ali</th>\n",
       "      <td>67</td>\n",
       "      <td>89</td>\n",
       "      <td>98</td>\n",
       "      <td>1</td>\n",
       "      <td>2</td>\n",
       "      <td>3.000000</td>\n",
       "    </tr>\n",
       "  </tbody>\n",
       "</table>\n",
       "</div>"
      ],
      "text/plain": [
       "        AI for Everyone  Python1  Python2  Total Marks Status  Percentage\n",
       "Khizra               90       78       91          259   Pass   86.333333\n",
       "Ayesha               82       59       77          218   Fail   72.666667\n",
       "Dania                85       89       67          241   Pass   80.333333\n",
       "Hadiqa               79       80       55          214   Fail   71.333333\n",
       "Zubia                68       56       55          179   Fail   59.666667\n",
       "Wajiha               78       65       55          198   Fail   66.000000\n",
       "Ali                  67       89       98            1      2    3.000000"
      ]
     },
     "execution_count": 98,
     "metadata": {},
     "output_type": "execute_result"
    }
   ],
   "source": [
    "df"
   ]
  },
  {
   "cell_type": "code",
   "execution_count": 103,
   "metadata": {},
   "outputs": [
    {
     "name": "stderr",
     "output_type": "stream",
     "text": [
      "C:\\ProgramData\\Anaconda3\\lib\\site-packages\\ipykernel_launcher.py:1: SettingWithCopyWarning: \n",
      "A value is trying to be set on a copy of a slice from a DataFrame\n",
      "\n",
      "See the caveats in the documentation: http://pandas.pydata.org/pandas-docs/stable/indexing.html#indexing-view-versus-copy\n",
      "  \"\"\"Entry point for launching an IPython kernel.\n",
      "C:\\ProgramData\\Anaconda3\\lib\\site-packages\\pandas\\core\\series.py:1035: SettingWithCopyWarning: \n",
      "A value is trying to be set on a copy of a slice from a DataFrame\n",
      "\n",
      "See the caveats in the documentation: http://pandas.pydata.org/pandas-docs/stable/indexing.html#indexing-view-versus-copy\n",
      "  self._set_with(key, value)\n"
     ]
    }
   ],
   "source": [
    "df.loc['Ali'][[3,4]]=[200,'Pass']"
   ]
  },
  {
   "cell_type": "code",
   "execution_count": 84,
   "metadata": {},
   "outputs": [
    {
     "data": {
      "text/plain": [
       "array('Pass', dtype='<U4')"
      ]
     },
     "execution_count": 84,
     "metadata": {},
     "output_type": "execute_result"
    }
   ],
   "source": [
    "\n",
    "import numpy as np\n",
    "\n",
    "a=10\n",
    "b=20\n",
    "\n",
    "np.where(b>a, 'Pass', 'FAIL')"
   ]
  },
  {
   "cell_type": "code",
   "execution_count": null,
   "metadata": {},
   "outputs": [],
   "source": []
  },
  {
   "cell_type": "code",
   "execution_count": null,
   "metadata": {},
   "outputs": [],
   "source": []
  }
 ],
 "metadata": {
  "kernelspec": {
   "display_name": "Python 3",
   "language": "python",
   "name": "python3"
  },
  "language_info": {
   "codemirror_mode": {
    "name": "ipython",
    "version": 3
   },
   "file_extension": ".py",
   "mimetype": "text/x-python",
   "name": "python",
   "nbconvert_exporter": "python",
   "pygments_lexer": "ipython3",
   "version": "3.7.3"
  }
 },
 "nbformat": 4,
 "nbformat_minor": 2
}
