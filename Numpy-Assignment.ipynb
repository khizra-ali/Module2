{
 "cells": [
  {
   "cell_type": "code",
   "execution_count": 1,
   "metadata": {},
   "outputs": [],
   "source": [
    "import numpy as np"
   ]
  },
  {
   "cell_type": "markdown",
   "metadata": {},
   "source": [
    "# NumPy Assignment "
   ]
  },
  {
   "cell_type": "markdown",
   "metadata": {},
   "source": [
    "## Suppose you have a superstore which runs 24/7. Your tasks are to:"
   ]
  },
  {
   "cell_type": "markdown",
   "metadata": {},
   "source": [
    "1) Create a dataset of the sale transactions of each day and each hour for the Month of January. Each row contains in the array should contain 23 records. Each index will represent total sale in that hour. e.g row 0 will contain the array of 23 transactions of Jan 1st. Now the 0 index of each row should contain the total sale made at 00:00 hours of respective date"
   ]
  },
  {
   "cell_type": "code",
   "execution_count": 35,
   "metadata": {},
   "outputs": [],
   "source": [
    "data = np.random.randint(low =1, high = 100, size= (31,24))"
   ]
  },
  {
   "cell_type": "code",
   "execution_count": 36,
   "metadata": {},
   "outputs": [
    {
     "data": {
      "text/plain": [
       "array([[55, 55, 70, 67, 65, 44, 16, 25, 80, 35, 89, 46, 61, 35, 22,  4,\n",
       "        84, 84, 95, 55, 29,  1, 35, 63],\n",
       "       [12, 68, 63, 42, 75, 71, 98, 62, 44, 52,  8, 57, 95,  9, 32, 32,\n",
       "        50, 79, 59, 74,  1, 34,  4, 79],\n",
       "       [23, 63, 29, 44, 45, 55, 89, 40, 40,  4,  9, 19, 45, 34, 95, 42,\n",
       "        26, 38, 64, 78, 56, 36, 23, 92],\n",
       "       [22, 70, 51, 54, 62, 22, 12, 47, 18, 64, 51, 78, 73, 23, 87, 36,\n",
       "        64, 92, 78, 42, 27, 37, 71, 70],\n",
       "       [49, 23,  5, 62, 25, 91,  1, 76, 42, 45, 10, 19, 97, 95, 12, 60,\n",
       "        60, 82, 81, 53, 80, 72, 84, 48],\n",
       "       [61, 27, 22, 31, 97, 89, 15, 95, 34, 20, 21, 44, 84, 78, 27, 71,\n",
       "        69, 88, 38, 13, 27, 49,  2, 49],\n",
       "       [90, 96, 64, 69, 97, 56, 80, 79, 36, 85, 25, 25, 14, 56, 73, 35,\n",
       "        99, 18, 72, 17, 58, 98,  5, 77],\n",
       "       [58, 30,  1, 31, 72, 96, 45, 97, 38, 88, 25,  5, 26, 26, 60, 44,\n",
       "        66, 15, 30, 18, 61, 48, 92, 54],\n",
       "       [29, 99, 15, 74,  8, 79, 20, 59, 55, 52, 98, 51, 22, 81, 88, 18,\n",
       "        97, 49, 77, 85, 84, 39, 79, 69],\n",
       "       [67, 78, 30, 42, 18, 76, 83,  6, 62, 38, 98, 28, 48, 15, 20, 86,\n",
       "        26, 13, 59, 16, 65, 42, 73, 95],\n",
       "       [79, 66, 94, 65, 64, 36, 71, 73, 40, 52, 46,  7,  2, 36,  8, 79,\n",
       "        57, 45, 93, 43,  4, 14, 38, 10],\n",
       "       [ 6, 72, 67, 14,  7, 57, 92, 74,  4, 42, 91, 80, 41, 94, 44, 52,\n",
       "        95, 86, 56, 41, 56, 64, 32, 75],\n",
       "       [47, 48, 97, 82, 56, 17, 42, 21, 56, 54, 46, 85, 25, 35,  4, 64,\n",
       "        85, 64, 74, 33, 74, 15, 21, 98],\n",
       "       [40, 25, 95, 54, 63,  4, 84, 63, 75, 97, 36, 17, 99,  1,  5,  4,\n",
       "         3, 84, 10, 67, 85, 53, 58, 84],\n",
       "       [66, 37, 33, 28, 90, 71, 72, 39, 95, 17, 31, 79, 83,  6, 23, 83,\n",
       "        15,  2, 48, 47, 15, 33, 85, 62],\n",
       "       [20, 71,  3, 94, 17,  5, 95,  8, 34, 36, 87,  3, 13, 62, 62, 63,\n",
       "        96, 51, 59, 17,  5, 70, 34, 17],\n",
       "       [ 8, 33, 14, 55, 99, 20, 44,  6, 58, 27, 88, 13, 49, 33, 64, 68,\n",
       "        48, 52, 34, 57, 46, 76,  4, 70],\n",
       "       [80, 37,  9, 86, 27, 53, 76, 33, 35,  2, 52, 50, 41, 59, 33, 94,\n",
       "        65,  4, 79, 40, 58, 26, 29, 59],\n",
       "       [99, 40, 34, 76, 13, 14, 32, 16, 79, 72,  2, 72,  4, 84, 86, 71,\n",
       "        26, 67, 25, 30,  7, 16, 50, 26],\n",
       "       [51, 13, 48, 64, 52, 22, 68, 95, 28, 56, 46, 62, 77, 82, 38, 45,\n",
       "        37, 78, 75, 86,  9, 43, 50,  4],\n",
       "       [26, 79, 53, 49, 24, 51, 81, 13, 76,  8, 83, 73, 23, 14, 53,  3,\n",
       "        15, 39, 76, 75, 58, 69, 84, 27],\n",
       "       [18,  2, 54, 90, 81,  9, 63, 85, 18, 21, 55, 90, 25, 45, 75, 76,\n",
       "        68, 34, 84, 38, 72, 83, 16, 85],\n",
       "       [ 4, 52, 51, 15, 63, 36, 99, 92, 90, 30, 83, 38, 88, 35, 82,  9,\n",
       "        43, 51, 73, 56, 63, 82, 73, 47],\n",
       "       [28, 96, 69, 74, 79, 36, 94, 46, 51, 25, 78, 15, 62, 31, 85, 72,\n",
       "         4,  7, 43, 72, 79, 69, 69, 89],\n",
       "       [53, 13, 22, 70, 62, 17, 61, 14, 80, 99, 35, 29, 21, 99, 90, 93,\n",
       "        63, 40, 18, 92, 88, 63, 49, 11],\n",
       "       [93, 68, 72,  1,  8, 85, 34, 15, 53, 26, 40, 11, 98, 52, 13, 68,\n",
       "         3,  6,  8,  3, 77, 10, 84, 12],\n",
       "       [40, 22, 57, 95, 29,  4, 15, 66, 52, 39, 93, 16,  1, 82, 30, 57,\n",
       "        21,  6, 78, 94, 86, 88, 54, 46],\n",
       "       [24, 50, 91,  4, 77, 48, 25, 47, 90, 56, 99,  1, 41, 17, 52, 58,\n",
       "        79, 43, 34, 60, 60, 86, 60,  9],\n",
       "       [38, 62, 19, 32, 19, 27,  9, 93, 58, 29, 21, 78, 98, 32, 27, 38,\n",
       "        64, 56, 34, 87, 50,  9, 73, 66],\n",
       "       [81, 54, 74, 28, 16, 95, 65, 60, 32, 86, 51, 98, 60, 65, 15, 66,\n",
       "        94, 35,  6, 28, 35, 76, 39,  8],\n",
       "       [43,  9, 86, 78, 95,  3, 76, 82, 33, 87, 69, 58,  2, 96, 72, 37,\n",
       "        33, 46,  5, 56, 21, 53, 30, 31]])"
      ]
     },
     "execution_count": 36,
     "metadata": {},
     "output_type": "execute_result"
    }
   ],
   "source": [
    "data"
   ]
  },
  {
   "cell_type": "code",
   "execution_count": 38,
   "metadata": {},
   "outputs": [
    {
     "data": {
      "text/plain": [
       "31"
      ]
     },
     "execution_count": 38,
     "metadata": {},
     "output_type": "execute_result"
    }
   ],
   "source": [
    "np.size(data,axis=0) #row"
   ]
  },
  {
   "cell_type": "code",
   "execution_count": 39,
   "metadata": {},
   "outputs": [
    {
     "data": {
      "text/plain": [
       "24"
      ]
     },
     "execution_count": 39,
     "metadata": {},
     "output_type": "execute_result"
    }
   ],
   "source": [
    "np.size(data,axis=1) #column"
   ]
  },
  {
   "cell_type": "markdown",
   "metadata": {},
   "source": [
    "\n",
    "2) Calculate Daily Average Sale of this dataset"
   ]
  },
  {
   "cell_type": "code",
   "execution_count": 41,
   "metadata": {},
   "outputs": [
    {
     "data": {
      "text/plain": [
       "array([50.625     , 50.        , 45.375     , 52.125     , 53.        ,\n",
       "       47.95833333, 59.33333333, 46.91666667, 59.45833333, 49.33333333,\n",
       "       46.75      , 55.91666667, 51.79166667, 50.25      , 48.33333333,\n",
       "       42.58333333, 44.41666667, 46.95833333, 43.375     , 51.20833333,\n",
       "       48.        , 53.625     , 56.45833333, 57.20833333, 53.41666667,\n",
       "       39.16666667, 48.79166667, 50.45833333, 46.625     , 52.79166667,\n",
       "       50.04166667])"
      ]
     },
     "execution_count": 41,
     "metadata": {},
     "output_type": "execute_result"
    }
   ],
   "source": [
    "np.mean(data, axis = 1)"
   ]
  },
  {
   "cell_type": "markdown",
   "metadata": {},
   "source": [
    "\n",
    "3) Calculate the Average Sale of each hour, so that you have insight of the busiest hour in the month."
   ]
  },
  {
   "cell_type": "code",
   "execution_count": 42,
   "metadata": {},
   "outputs": [
    {
     "data": {
      "text/plain": [
       "array([45.48387097, 50.25806452, 48.12903226, 53.87096774, 51.77419355,\n",
       "       44.80645161, 56.67741935, 52.48387097, 51.16129032, 46.58064516,\n",
       "       53.74193548, 43.4516129 , 48.96774194, 48.77419355, 47.64516129,\n",
       "       52.51612903, 53.38709677, 46.90322581, 53.70967742, 50.74193548,\n",
       "       49.5483871 , 50.12903226, 48.38709677, 52.64516129])"
      ]
     },
     "execution_count": 42,
     "metadata": {},
     "output_type": "execute_result"
    }
   ],
   "source": [
    "data.mean(axis=0)"
   ]
  },
  {
   "cell_type": "markdown",
   "metadata": {},
   "source": [
    "4) Calculate the minimum and Maximum Sale of each day."
   ]
  },
  {
   "cell_type": "code",
   "execution_count": 46,
   "metadata": {},
   "outputs": [
    {
     "data": {
      "text/plain": [
       "array([ 1,  1,  4, 12,  1,  2,  5,  1,  8,  6,  2,  4,  4,  1,  2,  3,  4,\n",
       "        2,  2,  4,  3,  2,  4,  4, 11,  1,  1,  1,  9,  6,  2])"
      ]
     },
     "execution_count": 46,
     "metadata": {},
     "output_type": "execute_result"
    }
   ],
   "source": [
    "data.min(axis = 1)"
   ]
  },
  {
   "cell_type": "code",
   "execution_count": 47,
   "metadata": {},
   "outputs": [
    {
     "data": {
      "text/plain": [
       "array([95, 98, 95, 92, 97, 97, 99, 97, 99, 98, 94, 95, 98, 99, 95, 96, 99,\n",
       "       94, 99, 95, 84, 90, 99, 96, 99, 98, 95, 99, 98, 98, 96])"
      ]
     },
     "execution_count": 47,
     "metadata": {},
     "output_type": "execute_result"
    }
   ],
   "source": [
    "np.max(data, axis = 1)"
   ]
  },
  {
   "cell_type": "markdown",
   "metadata": {},
   "source": [
    "5) Calculate the Minimum and Maximum Sale of each hour."
   ]
  },
  {
   "cell_type": "code",
   "execution_count": 48,
   "metadata": {},
   "outputs": [
    {
     "data": {
      "text/plain": [
       "array([4, 2, 1, 1, 7, 3, 1, 6, 4, 2, 2, 1, 1, 1, 4, 3, 3, 2, 5, 3, 1, 1,\n",
       "       2, 4])"
      ]
     },
     "execution_count": 48,
     "metadata": {},
     "output_type": "execute_result"
    }
   ],
   "source": [
    "data.min(axis = 0)"
   ]
  },
  {
   "cell_type": "code",
   "execution_count": 49,
   "metadata": {},
   "outputs": [
    {
     "data": {
      "text/plain": [
       "array([99, 99, 97, 95, 99, 96, 99, 97, 95, 99, 99, 98, 99, 99, 95, 94, 99,\n",
       "       92, 95, 94, 88, 98, 92, 98])"
      ]
     },
     "execution_count": 49,
     "metadata": {},
     "output_type": "execute_result"
    }
   ],
   "source": [
    "data.max(axis = 0)"
   ]
  },
  {
   "cell_type": "markdown",
   "metadata": {},
   "source": [
    "\n",
    "6) Calculate Daily Cumulative Sum"
   ]
  },
  {
   "cell_type": "code",
   "execution_count": 50,
   "metadata": {},
   "outputs": [
    {
     "data": {
      "text/plain": [
       "array([[  55,  110,  180,  247,  312,  356,  372,  397,  477,  512,  601,\n",
       "         647,  708,  743,  765,  769,  853,  937, 1032, 1087, 1116, 1117,\n",
       "        1152, 1215],\n",
       "       [  12,   80,  143,  185,  260,  331,  429,  491,  535,  587,  595,\n",
       "         652,  747,  756,  788,  820,  870,  949, 1008, 1082, 1083, 1117,\n",
       "        1121, 1200],\n",
       "       [  23,   86,  115,  159,  204,  259,  348,  388,  428,  432,  441,\n",
       "         460,  505,  539,  634,  676,  702,  740,  804,  882,  938,  974,\n",
       "         997, 1089],\n",
       "       [  22,   92,  143,  197,  259,  281,  293,  340,  358,  422,  473,\n",
       "         551,  624,  647,  734,  770,  834,  926, 1004, 1046, 1073, 1110,\n",
       "        1181, 1251],\n",
       "       [  49,   72,   77,  139,  164,  255,  256,  332,  374,  419,  429,\n",
       "         448,  545,  640,  652,  712,  772,  854,  935,  988, 1068, 1140,\n",
       "        1224, 1272],\n",
       "       [  61,   88,  110,  141,  238,  327,  342,  437,  471,  491,  512,\n",
       "         556,  640,  718,  745,  816,  885,  973, 1011, 1024, 1051, 1100,\n",
       "        1102, 1151],\n",
       "       [  90,  186,  250,  319,  416,  472,  552,  631,  667,  752,  777,\n",
       "         802,  816,  872,  945,  980, 1079, 1097, 1169, 1186, 1244, 1342,\n",
       "        1347, 1424],\n",
       "       [  58,   88,   89,  120,  192,  288,  333,  430,  468,  556,  581,\n",
       "         586,  612,  638,  698,  742,  808,  823,  853,  871,  932,  980,\n",
       "        1072, 1126],\n",
       "       [  29,  128,  143,  217,  225,  304,  324,  383,  438,  490,  588,\n",
       "         639,  661,  742,  830,  848,  945,  994, 1071, 1156, 1240, 1279,\n",
       "        1358, 1427],\n",
       "       [  67,  145,  175,  217,  235,  311,  394,  400,  462,  500,  598,\n",
       "         626,  674,  689,  709,  795,  821,  834,  893,  909,  974, 1016,\n",
       "        1089, 1184],\n",
       "       [  79,  145,  239,  304,  368,  404,  475,  548,  588,  640,  686,\n",
       "         693,  695,  731,  739,  818,  875,  920, 1013, 1056, 1060, 1074,\n",
       "        1112, 1122],\n",
       "       [   6,   78,  145,  159,  166,  223,  315,  389,  393,  435,  526,\n",
       "         606,  647,  741,  785,  837,  932, 1018, 1074, 1115, 1171, 1235,\n",
       "        1267, 1342],\n",
       "       [  47,   95,  192,  274,  330,  347,  389,  410,  466,  520,  566,\n",
       "         651,  676,  711,  715,  779,  864,  928, 1002, 1035, 1109, 1124,\n",
       "        1145, 1243],\n",
       "       [  40,   65,  160,  214,  277,  281,  365,  428,  503,  600,  636,\n",
       "         653,  752,  753,  758,  762,  765,  849,  859,  926, 1011, 1064,\n",
       "        1122, 1206],\n",
       "       [  66,  103,  136,  164,  254,  325,  397,  436,  531,  548,  579,\n",
       "         658,  741,  747,  770,  853,  868,  870,  918,  965,  980, 1013,\n",
       "        1098, 1160],\n",
       "       [  20,   91,   94,  188,  205,  210,  305,  313,  347,  383,  470,\n",
       "         473,  486,  548,  610,  673,  769,  820,  879,  896,  901,  971,\n",
       "        1005, 1022],\n",
       "       [   8,   41,   55,  110,  209,  229,  273,  279,  337,  364,  452,\n",
       "         465,  514,  547,  611,  679,  727,  779,  813,  870,  916,  992,\n",
       "         996, 1066],\n",
       "       [  80,  117,  126,  212,  239,  292,  368,  401,  436,  438,  490,\n",
       "         540,  581,  640,  673,  767,  832,  836,  915,  955, 1013, 1039,\n",
       "        1068, 1127],\n",
       "       [  99,  139,  173,  249,  262,  276,  308,  324,  403,  475,  477,\n",
       "         549,  553,  637,  723,  794,  820,  887,  912,  942,  949,  965,\n",
       "        1015, 1041],\n",
       "       [  51,   64,  112,  176,  228,  250,  318,  413,  441,  497,  543,\n",
       "         605,  682,  764,  802,  847,  884,  962, 1037, 1123, 1132, 1175,\n",
       "        1225, 1229],\n",
       "       [  26,  105,  158,  207,  231,  282,  363,  376,  452,  460,  543,\n",
       "         616,  639,  653,  706,  709,  724,  763,  839,  914,  972, 1041,\n",
       "        1125, 1152],\n",
       "       [  18,   20,   74,  164,  245,  254,  317,  402,  420,  441,  496,\n",
       "         586,  611,  656,  731,  807,  875,  909,  993, 1031, 1103, 1186,\n",
       "        1202, 1287],\n",
       "       [   4,   56,  107,  122,  185,  221,  320,  412,  502,  532,  615,\n",
       "         653,  741,  776,  858,  867,  910,  961, 1034, 1090, 1153, 1235,\n",
       "        1308, 1355],\n",
       "       [  28,  124,  193,  267,  346,  382,  476,  522,  573,  598,  676,\n",
       "         691,  753,  784,  869,  941,  945,  952,  995, 1067, 1146, 1215,\n",
       "        1284, 1373],\n",
       "       [  53,   66,   88,  158,  220,  237,  298,  312,  392,  491,  526,\n",
       "         555,  576,  675,  765,  858,  921,  961,  979, 1071, 1159, 1222,\n",
       "        1271, 1282],\n",
       "       [  93,  161,  233,  234,  242,  327,  361,  376,  429,  455,  495,\n",
       "         506,  604,  656,  669,  737,  740,  746,  754,  757,  834,  844,\n",
       "         928,  940],\n",
       "       [  40,   62,  119,  214,  243,  247,  262,  328,  380,  419,  512,\n",
       "         528,  529,  611,  641,  698,  719,  725,  803,  897,  983, 1071,\n",
       "        1125, 1171],\n",
       "       [  24,   74,  165,  169,  246,  294,  319,  366,  456,  512,  611,\n",
       "         612,  653,  670,  722,  780,  859,  902,  936,  996, 1056, 1142,\n",
       "        1202, 1211],\n",
       "       [  38,  100,  119,  151,  170,  197,  206,  299,  357,  386,  407,\n",
       "         485,  583,  615,  642,  680,  744,  800,  834,  921,  971,  980,\n",
       "        1053, 1119],\n",
       "       [  81,  135,  209,  237,  253,  348,  413,  473,  505,  591,  642,\n",
       "         740,  800,  865,  880,  946, 1040, 1075, 1081, 1109, 1144, 1220,\n",
       "        1259, 1267],\n",
       "       [  43,   52,  138,  216,  311,  314,  390,  472,  505,  592,  661,\n",
       "         719,  721,  817,  889,  926,  959, 1005, 1010, 1066, 1087, 1140,\n",
       "        1170, 1201]], dtype=int32)"
      ]
     },
     "execution_count": 50,
     "metadata": {},
     "output_type": "execute_result"
    }
   ],
   "source": [
    "data.cumsum(axis=1)"
   ]
  },
  {
   "cell_type": "markdown",
   "metadata": {},
   "source": [
    "\n",
    "7) Calculate Daily Total Sum"
   ]
  },
  {
   "cell_type": "code",
   "execution_count": 51,
   "metadata": {},
   "outputs": [
    {
     "data": {
      "text/plain": [
       "array([1215, 1200, 1089, 1251, 1272, 1151, 1424, 1126, 1427, 1184, 1122,\n",
       "       1342, 1243, 1206, 1160, 1022, 1066, 1127, 1041, 1229, 1152, 1287,\n",
       "       1355, 1373, 1282,  940, 1171, 1211, 1119, 1267, 1201])"
      ]
     },
     "execution_count": 51,
     "metadata": {},
     "output_type": "execute_result"
    }
   ],
   "source": [
    "data.sum(axis = 1)"
   ]
  },
  {
   "cell_type": "markdown",
   "metadata": {},
   "source": [
    "8) Use Boolean Indexing to search for records where sale is greater than a defined value, choose an appropriate value depending upon your dataset"
   ]
  },
  {
   "cell_type": "code",
   "execution_count": 52,
   "metadata": {},
   "outputs": [
    {
     "data": {
      "text/plain": [
       "array([[ True,  True,  True,  True,  True, False, False, False,  True,\n",
       "        False,  True, False,  True, False, False, False,  True,  True,\n",
       "         True,  True, False, False, False,  True],\n",
       "       [False,  True,  True, False,  True,  True,  True,  True, False,\n",
       "         True, False,  True,  True, False, False, False, False,  True,\n",
       "         True,  True, False, False, False,  True],\n",
       "       [False,  True, False, False, False,  True,  True, False, False,\n",
       "        False, False, False, False, False,  True, False, False, False,\n",
       "         True,  True,  True, False, False,  True],\n",
       "       [False,  True,  True,  True,  True, False, False, False, False,\n",
       "         True,  True,  True,  True, False,  True, False,  True,  True,\n",
       "         True, False, False, False,  True,  True],\n",
       "       [False, False, False,  True, False,  True, False,  True, False,\n",
       "        False, False, False,  True,  True, False,  True,  True,  True,\n",
       "         True,  True,  True,  True,  True, False],\n",
       "       [ True, False, False, False,  True,  True, False,  True, False,\n",
       "        False, False, False,  True,  True, False,  True,  True,  True,\n",
       "        False, False, False, False, False, False],\n",
       "       [ True,  True,  True,  True,  True,  True,  True,  True, False,\n",
       "         True, False, False, False,  True,  True, False,  True, False,\n",
       "         True, False,  True,  True, False,  True],\n",
       "       [ True, False, False, False,  True,  True, False,  True, False,\n",
       "         True, False, False, False, False,  True, False,  True, False,\n",
       "        False, False,  True, False,  True,  True],\n",
       "       [False,  True, False,  True, False,  True, False,  True,  True,\n",
       "         True,  True,  True, False,  True,  True, False,  True, False,\n",
       "         True,  True,  True, False,  True,  True],\n",
       "       [ True,  True, False, False, False,  True,  True, False,  True,\n",
       "        False,  True, False, False, False, False,  True, False, False,\n",
       "         True, False,  True, False,  True,  True],\n",
       "       [ True,  True,  True,  True,  True, False,  True,  True, False,\n",
       "         True, False, False, False, False, False,  True,  True, False,\n",
       "         True, False, False, False, False, False],\n",
       "       [False,  True,  True, False, False,  True,  True,  True, False,\n",
       "        False,  True,  True, False,  True, False,  True,  True,  True,\n",
       "         True, False,  True,  True, False,  True],\n",
       "       [False, False,  True,  True,  True, False, False, False,  True,\n",
       "         True, False,  True, False, False, False,  True,  True,  True,\n",
       "         True, False,  True, False, False,  True],\n",
       "       [False, False,  True,  True,  True, False,  True,  True,  True,\n",
       "         True, False, False,  True, False, False, False, False,  True,\n",
       "        False,  True,  True,  True,  True,  True],\n",
       "       [ True, False, False, False,  True,  True,  True, False,  True,\n",
       "        False, False,  True,  True, False, False,  True, False, False,\n",
       "        False, False, False, False,  True,  True],\n",
       "       [False,  True, False,  True, False, False,  True, False, False,\n",
       "        False,  True, False, False,  True,  True,  True,  True,  True,\n",
       "         True, False, False,  True, False, False],\n",
       "       [False, False, False,  True,  True, False, False, False,  True,\n",
       "        False,  True, False, False, False,  True,  True, False,  True,\n",
       "        False,  True, False,  True, False,  True],\n",
       "       [ True, False, False,  True, False,  True,  True, False, False,\n",
       "        False,  True, False, False,  True, False,  True,  True, False,\n",
       "         True, False,  True, False, False,  True],\n",
       "       [ True, False, False,  True, False, False, False, False,  True,\n",
       "         True, False,  True, False,  True,  True,  True, False,  True,\n",
       "        False, False, False, False, False, False],\n",
       "       [ True, False, False,  True,  True, False,  True,  True, False,\n",
       "         True, False,  True,  True,  True, False, False, False,  True,\n",
       "         True,  True, False, False, False, False],\n",
       "       [False,  True,  True, False, False,  True,  True, False,  True,\n",
       "        False,  True,  True, False, False,  True, False, False, False,\n",
       "         True,  True,  True,  True,  True, False],\n",
       "       [False, False,  True,  True,  True, False,  True,  True, False,\n",
       "        False,  True,  True, False, False,  True,  True,  True, False,\n",
       "         True, False,  True,  True, False,  True],\n",
       "       [False,  True,  True, False,  True, False,  True,  True,  True,\n",
       "        False,  True, False,  True, False,  True, False, False,  True,\n",
       "         True,  True,  True,  True,  True, False],\n",
       "       [False,  True,  True,  True,  True, False,  True, False,  True,\n",
       "        False,  True, False,  True, False,  True,  True, False, False,\n",
       "        False,  True,  True,  True,  True,  True],\n",
       "       [ True, False, False,  True,  True, False,  True, False,  True,\n",
       "         True, False, False, False,  True,  True,  True,  True, False,\n",
       "        False,  True,  True,  True, False, False],\n",
       "       [ True,  True,  True, False, False,  True, False, False,  True,\n",
       "        False, False, False,  True,  True, False,  True, False, False,\n",
       "        False, False,  True, False,  True, False],\n",
       "       [False, False,  True,  True, False, False, False,  True,  True,\n",
       "        False,  True, False, False,  True, False,  True, False, False,\n",
       "         True,  True,  True,  True,  True, False],\n",
       "       [False, False,  True, False,  True, False, False, False,  True,\n",
       "         True,  True, False, False, False,  True,  True,  True, False,\n",
       "        False,  True,  True,  True,  True, False],\n",
       "       [False,  True, False, False, False, False, False,  True,  True,\n",
       "        False, False,  True,  True, False, False, False,  True,  True,\n",
       "        False,  True, False, False,  True,  True],\n",
       "       [ True,  True,  True, False, False,  True,  True,  True, False,\n",
       "         True,  True,  True,  True,  True, False,  True,  True, False,\n",
       "        False, False, False,  True, False, False],\n",
       "       [False, False,  True,  True,  True, False,  True,  True, False,\n",
       "         True,  True,  True, False,  True,  True, False, False, False,\n",
       "        False,  True, False,  True, False, False]])"
      ]
     },
     "execution_count": 52,
     "metadata": {},
     "output_type": "execute_result"
    }
   ],
   "source": [
    "data>50"
   ]
  },
  {
   "cell_type": "markdown",
   "metadata": {},
   "source": [
    "8) Use Boolean Indexing to search for records where sale is greater than a defined value, choose an appropriate value depending upon your dataset"
   ]
  },
  {
   "cell_type": "code",
   "execution_count": 62,
   "metadata": {},
   "outputs": [
    {
     "data": {
      "text/plain": [
       "array([89, 84, 84, 95, 98, 95, 89, 95, 92, 87, 92, 91, 97, 95, 82, 81, 84,\n",
       "       97, 89, 95, 84, 88, 90, 96, 97, 85, 99, 98, 96, 97, 88, 92, 99, 98,\n",
       "       81, 88, 97, 85, 84, 83, 98, 86, 95, 94, 93, 92, 91, 94, 95, 86, 97,\n",
       "       82, 85, 85, 98, 95, 84, 97, 99, 84, 85, 84, 90, 95, 83, 83, 85, 94,\n",
       "       95, 87, 96, 99, 88, 86, 94, 99, 84, 86, 95, 82, 86, 81, 83, 84, 90,\n",
       "       81, 85, 90, 84, 83, 85, 99, 92, 90, 83, 88, 82, 82, 96, 94, 85, 89,\n",
       "       99, 99, 90, 93, 92, 88, 93, 85, 98, 84, 95, 93, 82, 94, 86, 88, 91,\n",
       "       90, 99, 86, 93, 98, 87, 81, 95, 86, 98, 94, 86, 95, 82, 87, 96])"
      ]
     },
     "execution_count": 62,
     "metadata": {},
     "output_type": "execute_result"
    }
   ],
   "source": [
    "condition = data>80\n",
    "(data[data>80])"
   ]
  },
  {
   "cell_type": "code",
   "execution_count": 57,
   "metadata": {},
   "outputs": [
    {
     "data": {
      "text/plain": [
       "array([89, 84, 84, 95, 98, 95, 89, 95, 92, 87, 92, 91, 97, 95, 82, 81, 84,\n",
       "       97, 89, 95, 84, 88, 90, 96, 97, 85, 99, 98, 96, 97, 88, 92, 99, 98,\n",
       "       81, 88, 97, 85, 84, 83, 98, 86, 95, 94, 93, 92, 91, 94, 95, 86, 97,\n",
       "       82, 85, 85, 98, 95, 84, 97, 99, 84, 85, 84, 90, 95, 83, 83, 85, 94,\n",
       "       95, 87, 96, 99, 88, 86, 94, 99, 84, 86, 95, 82, 86, 81, 83, 84, 90,\n",
       "       81, 85, 90, 84, 83, 85, 99, 92, 90, 83, 88, 82, 82, 96, 94, 85, 89,\n",
       "       99, 99, 90, 93, 92, 88, 93, 85, 98, 84, 95, 93, 82, 94, 86, 88, 91,\n",
       "       90, 99, 86, 93, 98, 87, 81, 95, 86, 98, 94, 86, 95, 82, 87, 96])"
      ]
     },
     "execution_count": 57,
     "metadata": {},
     "output_type": "execute_result"
    }
   ],
   "source": [
    "data[condition]"
   ]
  },
  {
   "cell_type": "code",
   "execution_count": 74,
   "metadata": {},
   "outputs": [
    {
     "data": {
      "text/plain": [
       "744"
      ]
     },
     "execution_count": 74,
     "metadata": {},
     "output_type": "execute_result"
    }
   ],
   "source": [
    "#tell how many hours in january giving sale greater than 80 rupees\n",
    "total_hours = len(data.reshape(31*24))\n",
    "total_hours"
   ]
  },
  {
   "cell_type": "code",
   "execution_count": 77,
   "metadata": {},
   "outputs": [
    {
     "data": {
      "text/plain": [
       "135"
      ]
     },
     "execution_count": 77,
     "metadata": {},
     "output_type": "execute_result"
    }
   ],
   "source": [
    "hours80 = len(data[data>80])\n",
    "hours80"
   ]
  },
  {
   "cell_type": "code",
   "execution_count": 86,
   "metadata": {},
   "outputs": [
    {
     "name": "stdout",
     "output_type": "stream",
     "text": [
      "135 out of 744 hours have sale greater than 80 Rupees\n"
     ]
    }
   ],
   "source": [
    "print(hours80, 'out of', total_hours, 'hours have sale greater than 80 Rupees')"
   ]
  },
  {
   "cell_type": "code",
   "execution_count": 88,
   "metadata": {},
   "outputs": [
    {
     "data": {
      "text/plain": [
       "array([1215, 1200, 1089, 1251, 1272, 1151, 1424, 1126, 1427, 1184, 1122,\n",
       "       1342, 1243, 1206, 1160, 1022, 1066, 1127, 1041, 1229, 1152, 1287,\n",
       "       1355, 1373, 1282,  940, 1171, 1211, 1119, 1267, 1201])"
      ]
     },
     "execution_count": 88,
     "metadata": {},
     "output_type": "execute_result"
    }
   ],
   "source": [
    "day_sale = data.sum(axis= 1)\n",
    "day_sale"
   ]
  },
  {
   "cell_type": "code",
   "execution_count": 89,
   "metadata": {},
   "outputs": [
    {
     "data": {
      "text/plain": [
       "array([ True,  True,  True,  True,  True,  True,  True,  True,  True,\n",
       "        True,  True,  True,  True,  True,  True,  True,  True,  True,\n",
       "        True,  True,  True,  True,  True,  True,  True, False,  True,\n",
       "        True,  True,  True,  True])"
      ]
     },
     "execution_count": 89,
     "metadata": {},
     "output_type": "execute_result"
    }
   ],
   "source": [
    "day_sale>1000"
   ]
  },
  {
   "cell_type": "code",
   "execution_count": 94,
   "metadata": {},
   "outputs": [
    {
     "name": "stdout",
     "output_type": "stream",
     "text": [
      "There are 30 days in which sale is greater than 1000.\n"
     ]
    }
   ],
   "source": [
    "days_sale1000 = len(day_sale[day_sale> 1000])\n",
    "print('There are',days_sale1000,'days in which sale is greater than 1000.')"
   ]
  },
  {
   "cell_type": "code",
   "execution_count": null,
   "metadata": {},
   "outputs": [],
   "source": []
  }
 ],
 "metadata": {
  "kernelspec": {
   "display_name": "Python 3",
   "language": "python",
   "name": "python3"
  },
  "language_info": {
   "codemirror_mode": {
    "name": "ipython",
    "version": 3
   },
   "file_extension": ".py",
   "mimetype": "text/x-python",
   "name": "python",
   "nbconvert_exporter": "python",
   "pygments_lexer": "ipython3",
   "version": "3.7.3"
  }
 },
 "nbformat": 4,
 "nbformat_minor": 2
}
